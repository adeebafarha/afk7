{
 "cells": [
  {
   "cell_type": "code",
   "execution_count": 1,
   "id": "e658789f",
   "metadata": {},
   "outputs": [],
   "source": [
    "import numpy as np\n",
    "import pandas as pd\n",
    "import seaborn as sns\n",
    "import matplotlib.pyplot as plt\n",
    "import os\n",
    "from sklearn.preprocessing import StandardScaler\n",
    "from sklearn.decomposition import PCA\n",
    "from sklearn.cluster import KMeans\n",
    "\n",
    "\n",
    "from imblearn.over_sampling import SMOTE\n",
    "from imblearn.pipeline import make_pipeline\n",
    "from pylab import rcParams\n",
    "from sklearn.linear_model import LogisticRegression\n",
    "from sklearn.metrics import accuracy_score\n",
    "from sklearn.metrics import precision_score, recall_score, confusion_matrix\n",
    "from sklearn.metrics import f1_score, roc_auc_score, roc_curve\n",
    "from sklearn.model_selection import train_test_split\n",
    "from sklearn.model_selection import GridSearchCV\n"
   ]
  },
  {
   "cell_type": "code",
   "execution_count": 2,
   "id": "03c51f46",
   "metadata": {},
   "outputs": [],
   "source": [
    "df=pd.read_csv('C:/Users/ACER/Downloads/main project-bank-full.csv')"
   ]
  },
  {
   "cell_type": "code",
   "execution_count": 3,
   "id": "f26dd0b3",
   "metadata": {},
   "outputs": [
    {
     "data": {
      "text/html": [
       "<div>\n",
       "<style scoped>\n",
       "    .dataframe tbody tr th:only-of-type {\n",
       "        vertical-align: middle;\n",
       "    }\n",
       "\n",
       "    .dataframe tbody tr th {\n",
       "        vertical-align: top;\n",
       "    }\n",
       "\n",
       "    .dataframe thead th {\n",
       "        text-align: right;\n",
       "    }\n",
       "</style>\n",
       "<table border=\"1\" class=\"dataframe\">\n",
       "  <thead>\n",
       "    <tr style=\"text-align: right;\">\n",
       "      <th></th>\n",
       "      <th>age</th>\n",
       "      <th>job</th>\n",
       "      <th>marital</th>\n",
       "      <th>education</th>\n",
       "      <th>default</th>\n",
       "      <th>balance</th>\n",
       "      <th>housing</th>\n",
       "      <th>loan</th>\n",
       "      <th>contact</th>\n",
       "      <th>day</th>\n",
       "      <th>month</th>\n",
       "      <th>duration</th>\n",
       "      <th>campaign</th>\n",
       "      <th>pdays</th>\n",
       "      <th>previous</th>\n",
       "      <th>poutcome</th>\n",
       "      <th>Target</th>\n",
       "    </tr>\n",
       "  </thead>\n",
       "  <tbody>\n",
       "    <tr>\n",
       "      <th>0</th>\n",
       "      <td>58</td>\n",
       "      <td>management</td>\n",
       "      <td>married</td>\n",
       "      <td>tertiary</td>\n",
       "      <td>no</td>\n",
       "      <td>2143</td>\n",
       "      <td>yes</td>\n",
       "      <td>no</td>\n",
       "      <td>unknown</td>\n",
       "      <td>5</td>\n",
       "      <td>may</td>\n",
       "      <td>261</td>\n",
       "      <td>1</td>\n",
       "      <td>-1</td>\n",
       "      <td>0</td>\n",
       "      <td>unknown</td>\n",
       "      <td>no</td>\n",
       "    </tr>\n",
       "    <tr>\n",
       "      <th>1</th>\n",
       "      <td>44</td>\n",
       "      <td>technician</td>\n",
       "      <td>single</td>\n",
       "      <td>secondary</td>\n",
       "      <td>no</td>\n",
       "      <td>29</td>\n",
       "      <td>yes</td>\n",
       "      <td>no</td>\n",
       "      <td>unknown</td>\n",
       "      <td>5</td>\n",
       "      <td>may</td>\n",
       "      <td>151</td>\n",
       "      <td>1</td>\n",
       "      <td>-1</td>\n",
       "      <td>0</td>\n",
       "      <td>unknown</td>\n",
       "      <td>no</td>\n",
       "    </tr>\n",
       "    <tr>\n",
       "      <th>2</th>\n",
       "      <td>33</td>\n",
       "      <td>entrepreneur</td>\n",
       "      <td>married</td>\n",
       "      <td>secondary</td>\n",
       "      <td>no</td>\n",
       "      <td>2</td>\n",
       "      <td>yes</td>\n",
       "      <td>yes</td>\n",
       "      <td>unknown</td>\n",
       "      <td>5</td>\n",
       "      <td>may</td>\n",
       "      <td>76</td>\n",
       "      <td>1</td>\n",
       "      <td>-1</td>\n",
       "      <td>0</td>\n",
       "      <td>NaN</td>\n",
       "      <td>no</td>\n",
       "    </tr>\n",
       "    <tr>\n",
       "      <th>3</th>\n",
       "      <td>47</td>\n",
       "      <td>blue-collar</td>\n",
       "      <td>married</td>\n",
       "      <td>unknown</td>\n",
       "      <td>no</td>\n",
       "      <td>1506</td>\n",
       "      <td>yes</td>\n",
       "      <td>no</td>\n",
       "      <td>unknown</td>\n",
       "      <td>5</td>\n",
       "      <td>may</td>\n",
       "      <td>92</td>\n",
       "      <td>1</td>\n",
       "      <td>-1</td>\n",
       "      <td>0</td>\n",
       "      <td>unknown</td>\n",
       "      <td>no</td>\n",
       "    </tr>\n",
       "    <tr>\n",
       "      <th>4</th>\n",
       "      <td>33</td>\n",
       "      <td>unknown</td>\n",
       "      <td>single</td>\n",
       "      <td>unknown</td>\n",
       "      <td>no</td>\n",
       "      <td>1</td>\n",
       "      <td>no</td>\n",
       "      <td>no</td>\n",
       "      <td>unknown</td>\n",
       "      <td>5</td>\n",
       "      <td>may</td>\n",
       "      <td>198</td>\n",
       "      <td>1</td>\n",
       "      <td>-1</td>\n",
       "      <td>0</td>\n",
       "      <td>unknown</td>\n",
       "      <td>no</td>\n",
       "    </tr>\n",
       "    <tr>\n",
       "      <th>...</th>\n",
       "      <td>...</td>\n",
       "      <td>...</td>\n",
       "      <td>...</td>\n",
       "      <td>...</td>\n",
       "      <td>...</td>\n",
       "      <td>...</td>\n",
       "      <td>...</td>\n",
       "      <td>...</td>\n",
       "      <td>...</td>\n",
       "      <td>...</td>\n",
       "      <td>...</td>\n",
       "      <td>...</td>\n",
       "      <td>...</td>\n",
       "      <td>...</td>\n",
       "      <td>...</td>\n",
       "      <td>...</td>\n",
       "      <td>...</td>\n",
       "    </tr>\n",
       "    <tr>\n",
       "      <th>45206</th>\n",
       "      <td>51</td>\n",
       "      <td>technician</td>\n",
       "      <td>married</td>\n",
       "      <td>tertiary</td>\n",
       "      <td>no</td>\n",
       "      <td>825</td>\n",
       "      <td>no</td>\n",
       "      <td>no</td>\n",
       "      <td>cellular</td>\n",
       "      <td>17</td>\n",
       "      <td>nov</td>\n",
       "      <td>977</td>\n",
       "      <td>3</td>\n",
       "      <td>-1</td>\n",
       "      <td>0</td>\n",
       "      <td>unknown</td>\n",
       "      <td>yes</td>\n",
       "    </tr>\n",
       "    <tr>\n",
       "      <th>45207</th>\n",
       "      <td>71</td>\n",
       "      <td>retired</td>\n",
       "      <td>divorced</td>\n",
       "      <td>primary</td>\n",
       "      <td>no</td>\n",
       "      <td>1729</td>\n",
       "      <td>no</td>\n",
       "      <td>no</td>\n",
       "      <td>cellular</td>\n",
       "      <td>17</td>\n",
       "      <td>nov</td>\n",
       "      <td>456</td>\n",
       "      <td>2</td>\n",
       "      <td>-1</td>\n",
       "      <td>0</td>\n",
       "      <td>unknown</td>\n",
       "      <td>yes</td>\n",
       "    </tr>\n",
       "    <tr>\n",
       "      <th>45208</th>\n",
       "      <td>72</td>\n",
       "      <td>retired</td>\n",
       "      <td>married</td>\n",
       "      <td>secondary</td>\n",
       "      <td>no</td>\n",
       "      <td>5715</td>\n",
       "      <td>no</td>\n",
       "      <td>no</td>\n",
       "      <td>cellular</td>\n",
       "      <td>17</td>\n",
       "      <td>nov</td>\n",
       "      <td>1127</td>\n",
       "      <td>5</td>\n",
       "      <td>184</td>\n",
       "      <td>3</td>\n",
       "      <td>success</td>\n",
       "      <td>yes</td>\n",
       "    </tr>\n",
       "    <tr>\n",
       "      <th>45209</th>\n",
       "      <td>57</td>\n",
       "      <td>blue-collar</td>\n",
       "      <td>married</td>\n",
       "      <td>secondary</td>\n",
       "      <td>no</td>\n",
       "      <td>668</td>\n",
       "      <td>no</td>\n",
       "      <td>no</td>\n",
       "      <td>telephone</td>\n",
       "      <td>17</td>\n",
       "      <td>nov</td>\n",
       "      <td>508</td>\n",
       "      <td>4</td>\n",
       "      <td>-1</td>\n",
       "      <td>0</td>\n",
       "      <td>unknown</td>\n",
       "      <td>no</td>\n",
       "    </tr>\n",
       "    <tr>\n",
       "      <th>45210</th>\n",
       "      <td>37</td>\n",
       "      <td>entrepreneur</td>\n",
       "      <td>married</td>\n",
       "      <td>secondary</td>\n",
       "      <td>no</td>\n",
       "      <td>2971</td>\n",
       "      <td>no</td>\n",
       "      <td>no</td>\n",
       "      <td>cellular</td>\n",
       "      <td>17</td>\n",
       "      <td>nov</td>\n",
       "      <td>361</td>\n",
       "      <td>2</td>\n",
       "      <td>188</td>\n",
       "      <td>11</td>\n",
       "      <td>other</td>\n",
       "      <td>no</td>\n",
       "    </tr>\n",
       "  </tbody>\n",
       "</table>\n",
       "<p>45211 rows × 17 columns</p>\n",
       "</div>"
      ],
      "text/plain": [
       "       age           job   marital  education default  balance housing loan  \\\n",
       "0       58    management   married   tertiary      no     2143     yes   no   \n",
       "1       44    technician    single  secondary      no       29     yes   no   \n",
       "2       33  entrepreneur   married  secondary      no        2     yes  yes   \n",
       "3       47   blue-collar   married    unknown      no     1506     yes   no   \n",
       "4       33       unknown    single    unknown      no        1      no   no   \n",
       "...    ...           ...       ...        ...     ...      ...     ...  ...   \n",
       "45206   51    technician   married   tertiary      no      825      no   no   \n",
       "45207   71       retired  divorced    primary      no     1729      no   no   \n",
       "45208   72       retired   married  secondary      no     5715      no   no   \n",
       "45209   57   blue-collar   married  secondary      no      668      no   no   \n",
       "45210   37  entrepreneur   married  secondary      no     2971      no   no   \n",
       "\n",
       "         contact  day month  duration  campaign  pdays  previous poutcome  \\\n",
       "0        unknown    5   may       261         1     -1         0  unknown   \n",
       "1        unknown    5   may       151         1     -1         0  unknown   \n",
       "2        unknown    5   may        76         1     -1         0      NaN   \n",
       "3        unknown    5   may        92         1     -1         0  unknown   \n",
       "4        unknown    5   may       198         1     -1         0  unknown   \n",
       "...          ...  ...   ...       ...       ...    ...       ...      ...   \n",
       "45206   cellular   17   nov       977         3     -1         0  unknown   \n",
       "45207   cellular   17   nov       456         2     -1         0  unknown   \n",
       "45208   cellular   17   nov      1127         5    184         3  success   \n",
       "45209  telephone   17   nov       508         4     -1         0  unknown   \n",
       "45210   cellular   17   nov       361         2    188        11    other   \n",
       "\n",
       "      Target  \n",
       "0         no  \n",
       "1         no  \n",
       "2         no  \n",
       "3         no  \n",
       "4         no  \n",
       "...      ...  \n",
       "45206    yes  \n",
       "45207    yes  \n",
       "45208    yes  \n",
       "45209     no  \n",
       "45210     no  \n",
       "\n",
       "[45211 rows x 17 columns]"
      ]
     },
     "execution_count": 3,
     "metadata": {},
     "output_type": "execute_result"
    }
   ],
   "source": [
    "df"
   ]
  },
  {
   "cell_type": "code",
   "execution_count": 4,
   "id": "39d47327",
   "metadata": {},
   "outputs": [
    {
     "data": {
      "text/plain": [
       "age           0\n",
       "job           0\n",
       "marital       0\n",
       "education     0\n",
       "default       0\n",
       "balance       0\n",
       "housing       0\n",
       "loan          0\n",
       "contact      14\n",
       "day           0\n",
       "month         0\n",
       "duration      0\n",
       "campaign      0\n",
       "pdays         0\n",
       "previous      0\n",
       "poutcome     10\n",
       "Target        0\n",
       "dtype: int64"
      ]
     },
     "execution_count": 4,
     "metadata": {},
     "output_type": "execute_result"
    }
   ],
   "source": [
    "df.isnull().sum()"
   ]
  },
  {
   "cell_type": "code",
   "execution_count": 5,
   "id": "fd0bf737",
   "metadata": {},
   "outputs": [
    {
     "data": {
      "text/plain": [
       "age          0.000000\n",
       "job          0.000000\n",
       "marital      0.000000\n",
       "education    0.000000\n",
       "default      0.000000\n",
       "balance      0.000000\n",
       "housing      0.000000\n",
       "loan         0.000000\n",
       "contact      0.000310\n",
       "day          0.000000\n",
       "month        0.000000\n",
       "duration     0.000000\n",
       "campaign     0.000000\n",
       "pdays        0.000000\n",
       "previous     0.000000\n",
       "poutcome     0.000221\n",
       "Target       0.000000\n",
       "dtype: float64"
      ]
     },
     "execution_count": 5,
     "metadata": {},
     "output_type": "execute_result"
    }
   ],
   "source": [
    "df.isnull().mean()"
   ]
  },
  {
   "cell_type": "code",
   "execution_count": 6,
   "id": "8edee209",
   "metadata": {},
   "outputs": [
    {
     "data": {
      "text/html": [
       "<div>\n",
       "<style scoped>\n",
       "    .dataframe tbody tr th:only-of-type {\n",
       "        vertical-align: middle;\n",
       "    }\n",
       "\n",
       "    .dataframe tbody tr th {\n",
       "        vertical-align: top;\n",
       "    }\n",
       "\n",
       "    .dataframe thead th {\n",
       "        text-align: right;\n",
       "    }\n",
       "</style>\n",
       "<table border=\"1\" class=\"dataframe\">\n",
       "  <thead>\n",
       "    <tr style=\"text-align: right;\">\n",
       "      <th></th>\n",
       "      <th>age</th>\n",
       "      <th>job</th>\n",
       "      <th>marital</th>\n",
       "      <th>education</th>\n",
       "      <th>default</th>\n",
       "      <th>balance</th>\n",
       "      <th>housing</th>\n",
       "      <th>loan</th>\n",
       "      <th>contact</th>\n",
       "      <th>day</th>\n",
       "      <th>month</th>\n",
       "      <th>duration</th>\n",
       "      <th>campaign</th>\n",
       "      <th>pdays</th>\n",
       "      <th>previous</th>\n",
       "      <th>poutcome</th>\n",
       "      <th>Target</th>\n",
       "    </tr>\n",
       "  </thead>\n",
       "  <tbody>\n",
       "    <tr>\n",
       "      <th>0</th>\n",
       "      <td>58</td>\n",
       "      <td>management</td>\n",
       "      <td>married</td>\n",
       "      <td>tertiary</td>\n",
       "      <td>no</td>\n",
       "      <td>2143</td>\n",
       "      <td>yes</td>\n",
       "      <td>no</td>\n",
       "      <td>unknown</td>\n",
       "      <td>5</td>\n",
       "      <td>may</td>\n",
       "      <td>261</td>\n",
       "      <td>1</td>\n",
       "      <td>-1</td>\n",
       "      <td>0</td>\n",
       "      <td>unknown</td>\n",
       "      <td>no</td>\n",
       "    </tr>\n",
       "    <tr>\n",
       "      <th>1</th>\n",
       "      <td>44</td>\n",
       "      <td>technician</td>\n",
       "      <td>single</td>\n",
       "      <td>secondary</td>\n",
       "      <td>no</td>\n",
       "      <td>29</td>\n",
       "      <td>yes</td>\n",
       "      <td>no</td>\n",
       "      <td>unknown</td>\n",
       "      <td>5</td>\n",
       "      <td>may</td>\n",
       "      <td>151</td>\n",
       "      <td>1</td>\n",
       "      <td>-1</td>\n",
       "      <td>0</td>\n",
       "      <td>unknown</td>\n",
       "      <td>no</td>\n",
       "    </tr>\n",
       "    <tr>\n",
       "      <th>2</th>\n",
       "      <td>33</td>\n",
       "      <td>entrepreneur</td>\n",
       "      <td>married</td>\n",
       "      <td>secondary</td>\n",
       "      <td>no</td>\n",
       "      <td>2</td>\n",
       "      <td>yes</td>\n",
       "      <td>yes</td>\n",
       "      <td>unknown</td>\n",
       "      <td>5</td>\n",
       "      <td>may</td>\n",
       "      <td>76</td>\n",
       "      <td>1</td>\n",
       "      <td>-1</td>\n",
       "      <td>0</td>\n",
       "      <td>NaN</td>\n",
       "      <td>no</td>\n",
       "    </tr>\n",
       "    <tr>\n",
       "      <th>3</th>\n",
       "      <td>47</td>\n",
       "      <td>blue-collar</td>\n",
       "      <td>married</td>\n",
       "      <td>unknown</td>\n",
       "      <td>no</td>\n",
       "      <td>1506</td>\n",
       "      <td>yes</td>\n",
       "      <td>no</td>\n",
       "      <td>unknown</td>\n",
       "      <td>5</td>\n",
       "      <td>may</td>\n",
       "      <td>92</td>\n",
       "      <td>1</td>\n",
       "      <td>-1</td>\n",
       "      <td>0</td>\n",
       "      <td>unknown</td>\n",
       "      <td>no</td>\n",
       "    </tr>\n",
       "    <tr>\n",
       "      <th>4</th>\n",
       "      <td>33</td>\n",
       "      <td>unknown</td>\n",
       "      <td>single</td>\n",
       "      <td>unknown</td>\n",
       "      <td>no</td>\n",
       "      <td>1</td>\n",
       "      <td>no</td>\n",
       "      <td>no</td>\n",
       "      <td>unknown</td>\n",
       "      <td>5</td>\n",
       "      <td>may</td>\n",
       "      <td>198</td>\n",
       "      <td>1</td>\n",
       "      <td>-1</td>\n",
       "      <td>0</td>\n",
       "      <td>unknown</td>\n",
       "      <td>no</td>\n",
       "    </tr>\n",
       "  </tbody>\n",
       "</table>\n",
       "</div>"
      ],
      "text/plain": [
       "   age           job  marital  education default  balance housing loan  \\\n",
       "0   58    management  married   tertiary      no     2143     yes   no   \n",
       "1   44    technician   single  secondary      no       29     yes   no   \n",
       "2   33  entrepreneur  married  secondary      no        2     yes  yes   \n",
       "3   47   blue-collar  married    unknown      no     1506     yes   no   \n",
       "4   33       unknown   single    unknown      no        1      no   no   \n",
       "\n",
       "   contact  day month  duration  campaign  pdays  previous poutcome Target  \n",
       "0  unknown    5   may       261         1     -1         0  unknown     no  \n",
       "1  unknown    5   may       151         1     -1         0  unknown     no  \n",
       "2  unknown    5   may        76         1     -1         0      NaN     no  \n",
       "3  unknown    5   may        92         1     -1         0  unknown     no  \n",
       "4  unknown    5   may       198         1     -1         0  unknown     no  "
      ]
     },
     "execution_count": 6,
     "metadata": {},
     "output_type": "execute_result"
    }
   ],
   "source": [
    "df.head()"
   ]
  },
  {
   "cell_type": "code",
   "execution_count": 7,
   "id": "8fd98c5c",
   "metadata": {},
   "outputs": [
    {
     "name": "stdout",
     "output_type": "stream",
     "text": [
      "<class 'pandas.core.frame.DataFrame'>\n",
      "RangeIndex: 45211 entries, 0 to 45210\n",
      "Data columns (total 17 columns):\n",
      " #   Column     Non-Null Count  Dtype \n",
      "---  ------     --------------  ----- \n",
      " 0   age        45211 non-null  int64 \n",
      " 1   job        45211 non-null  object\n",
      " 2   marital    45211 non-null  object\n",
      " 3   education  45211 non-null  object\n",
      " 4   default    45211 non-null  object\n",
      " 5   balance    45211 non-null  int64 \n",
      " 6   housing    45211 non-null  object\n",
      " 7   loan       45211 non-null  object\n",
      " 8   contact    45197 non-null  object\n",
      " 9   day        45211 non-null  int64 \n",
      " 10  month      45211 non-null  object\n",
      " 11  duration   45211 non-null  int64 \n",
      " 12  campaign   45211 non-null  int64 \n",
      " 13  pdays      45211 non-null  int64 \n",
      " 14  previous   45211 non-null  int64 \n",
      " 15  poutcome   45201 non-null  object\n",
      " 16  Target     45211 non-null  object\n",
      "dtypes: int64(7), object(10)\n",
      "memory usage: 5.9+ MB\n"
     ]
    }
   ],
   "source": [
    "# check the data frame structure\n",
    "df.info()"
   ]
  },
  {
   "cell_type": "code",
   "execution_count": 8,
   "id": "6e705178",
   "metadata": {},
   "outputs": [
    {
     "data": {
      "text/plain": [
       "(45211, 17)"
      ]
     },
     "execution_count": 8,
     "metadata": {},
     "output_type": "execute_result"
    }
   ],
   "source": [
    "# find the number of rows and column\n",
    "df.shape"
   ]
  },
  {
   "cell_type": "code",
   "execution_count": 9,
   "id": "932fae9e",
   "metadata": {},
   "outputs": [
    {
     "data": {
      "text/html": [
       "<div>\n",
       "<style scoped>\n",
       "    .dataframe tbody tr th:only-of-type {\n",
       "        vertical-align: middle;\n",
       "    }\n",
       "\n",
       "    .dataframe tbody tr th {\n",
       "        vertical-align: top;\n",
       "    }\n",
       "\n",
       "    .dataframe thead th {\n",
       "        text-align: right;\n",
       "    }\n",
       "</style>\n",
       "<table border=\"1\" class=\"dataframe\">\n",
       "  <thead>\n",
       "    <tr style=\"text-align: right;\">\n",
       "      <th></th>\n",
       "      <th>age</th>\n",
       "      <th>balance</th>\n",
       "      <th>day</th>\n",
       "      <th>duration</th>\n",
       "      <th>campaign</th>\n",
       "      <th>pdays</th>\n",
       "      <th>previous</th>\n",
       "    </tr>\n",
       "  </thead>\n",
       "  <tbody>\n",
       "    <tr>\n",
       "      <th>count</th>\n",
       "      <td>45211.000000</td>\n",
       "      <td>45211.000000</td>\n",
       "      <td>45211.000000</td>\n",
       "      <td>45211.000000</td>\n",
       "      <td>45211.000000</td>\n",
       "      <td>45211.000000</td>\n",
       "      <td>45211.000000</td>\n",
       "    </tr>\n",
       "    <tr>\n",
       "      <th>mean</th>\n",
       "      <td>40.936210</td>\n",
       "      <td>1362.272058</td>\n",
       "      <td>15.806419</td>\n",
       "      <td>258.163080</td>\n",
       "      <td>2.763841</td>\n",
       "      <td>40.197828</td>\n",
       "      <td>0.580323</td>\n",
       "    </tr>\n",
       "    <tr>\n",
       "      <th>std</th>\n",
       "      <td>10.618762</td>\n",
       "      <td>3044.765829</td>\n",
       "      <td>8.322476</td>\n",
       "      <td>257.527812</td>\n",
       "      <td>3.098021</td>\n",
       "      <td>100.128746</td>\n",
       "      <td>2.303441</td>\n",
       "    </tr>\n",
       "    <tr>\n",
       "      <th>min</th>\n",
       "      <td>18.000000</td>\n",
       "      <td>-8019.000000</td>\n",
       "      <td>1.000000</td>\n",
       "      <td>0.000000</td>\n",
       "      <td>1.000000</td>\n",
       "      <td>-1.000000</td>\n",
       "      <td>0.000000</td>\n",
       "    </tr>\n",
       "    <tr>\n",
       "      <th>25%</th>\n",
       "      <td>33.000000</td>\n",
       "      <td>72.000000</td>\n",
       "      <td>8.000000</td>\n",
       "      <td>103.000000</td>\n",
       "      <td>1.000000</td>\n",
       "      <td>-1.000000</td>\n",
       "      <td>0.000000</td>\n",
       "    </tr>\n",
       "    <tr>\n",
       "      <th>50%</th>\n",
       "      <td>39.000000</td>\n",
       "      <td>448.000000</td>\n",
       "      <td>16.000000</td>\n",
       "      <td>180.000000</td>\n",
       "      <td>2.000000</td>\n",
       "      <td>-1.000000</td>\n",
       "      <td>0.000000</td>\n",
       "    </tr>\n",
       "    <tr>\n",
       "      <th>75%</th>\n",
       "      <td>48.000000</td>\n",
       "      <td>1428.000000</td>\n",
       "      <td>21.000000</td>\n",
       "      <td>319.000000</td>\n",
       "      <td>3.000000</td>\n",
       "      <td>-1.000000</td>\n",
       "      <td>0.000000</td>\n",
       "    </tr>\n",
       "    <tr>\n",
       "      <th>max</th>\n",
       "      <td>95.000000</td>\n",
       "      <td>102127.000000</td>\n",
       "      <td>31.000000</td>\n",
       "      <td>4918.000000</td>\n",
       "      <td>63.000000</td>\n",
       "      <td>871.000000</td>\n",
       "      <td>275.000000</td>\n",
       "    </tr>\n",
       "  </tbody>\n",
       "</table>\n",
       "</div>"
      ],
      "text/plain": [
       "                age        balance           day      duration      campaign  \\\n",
       "count  45211.000000   45211.000000  45211.000000  45211.000000  45211.000000   \n",
       "mean      40.936210    1362.272058     15.806419    258.163080      2.763841   \n",
       "std       10.618762    3044.765829      8.322476    257.527812      3.098021   \n",
       "min       18.000000   -8019.000000      1.000000      0.000000      1.000000   \n",
       "25%       33.000000      72.000000      8.000000    103.000000      1.000000   \n",
       "50%       39.000000     448.000000     16.000000    180.000000      2.000000   \n",
       "75%       48.000000    1428.000000     21.000000    319.000000      3.000000   \n",
       "max       95.000000  102127.000000     31.000000   4918.000000     63.000000   \n",
       "\n",
       "              pdays      previous  \n",
       "count  45211.000000  45211.000000  \n",
       "mean      40.197828      0.580323  \n",
       "std      100.128746      2.303441  \n",
       "min       -1.000000      0.000000  \n",
       "25%       -1.000000      0.000000  \n",
       "50%       -1.000000      0.000000  \n",
       "75%       -1.000000      0.000000  \n",
       "max      871.000000    275.000000  "
      ]
     },
     "execution_count": 9,
     "metadata": {},
     "output_type": "execute_result"
    }
   ],
   "source": [
    "# describe data numerical columns\n",
    "# statistics of individual features\n",
    "df.describe()"
   ]
  },
  {
   "cell_type": "code",
   "execution_count": 10,
   "id": "7ee9d154",
   "metadata": {},
   "outputs": [
    {
     "name": "stdout",
     "output_type": "stream",
     "text": [
      "job\n",
      "['management' 'technician' 'entrepreneur' 'blue-collar' 'unknown'\n",
      " 'retired' 'admin.' 'services' 'self-employed' 'unemployed' 'housemaid'\n",
      " 'student']\n",
      "marital\n",
      "['married' 'single' 'divorced']\n",
      "education\n",
      "['tertiary' 'secondary' 'unknown' 'primary']\n",
      "default\n",
      "['no' 'yes']\n",
      "housing\n",
      "['yes' 'no']\n",
      "loan\n",
      "['no' 'yes']\n",
      "contact\n",
      "['unknown' nan 'cellular' 'telephone']\n",
      "month\n",
      "['may' 'jun' 'jul' 'aug' 'oct' 'nov' 'dec' 'jan' 'feb' 'mar' 'apr' 'sep']\n",
      "poutcome\n",
      "['unknown' nan 'failure' 'other' 'success']\n",
      "Target\n",
      "['no' 'yes']\n"
     ]
    }
   ],
   "source": [
    "# let us understand categorical features and unique values\n",
    "for col in df.select_dtypes(include='object').columns:\n",
    "    print(col)\n",
    "    print(df[col].unique())"
   ]
  },
  {
   "cell_type": "code",
   "execution_count": 11,
   "id": "aa7e2a80",
   "metadata": {},
   "outputs": [
    {
     "data": {
      "text/plain": [
       "77"
      ]
     },
     "execution_count": 11,
     "metadata": {},
     "output_type": "execute_result"
    }
   ],
   "source": [
    "# find features with one value\n",
    "df['age'].nunique()"
   ]
  },
  {
   "cell_type": "code",
   "execution_count": 12,
   "id": "6d173eb7",
   "metadata": {},
   "outputs": [
    {
     "data": {
      "text/plain": [
       "12"
      ]
     },
     "execution_count": 12,
     "metadata": {},
     "output_type": "execute_result"
    }
   ],
   "source": [
    "df['job'].nunique()"
   ]
  },
  {
   "cell_type": "code",
   "execution_count": 13,
   "id": "85588f49",
   "metadata": {},
   "outputs": [
    {
     "data": {
      "text/plain": [
       "3"
      ]
     },
     "execution_count": 13,
     "metadata": {},
     "output_type": "execute_result"
    }
   ],
   "source": [
    "df['marital'].nunique()"
   ]
  },
  {
   "cell_type": "code",
   "execution_count": 14,
   "id": "66c082b8",
   "metadata": {},
   "outputs": [],
   "source": [
    "# there is no unwanted column"
   ]
  },
  {
   "cell_type": "code",
   "execution_count": 15,
   "id": "07f19334",
   "metadata": {},
   "outputs": [],
   "source": [
    "# find missing values"
   ]
  },
  {
   "cell_type": "code",
   "execution_count": 16,
   "id": "2bfa2e1f",
   "metadata": {},
   "outputs": [
    {
     "data": {
      "text/plain": [
       "age           0\n",
       "job           0\n",
       "marital       0\n",
       "education     0\n",
       "default       0\n",
       "balance       0\n",
       "housing       0\n",
       "loan          0\n",
       "contact      14\n",
       "day           0\n",
       "month         0\n",
       "duration      0\n",
       "campaign      0\n",
       "pdays         0\n",
       "previous      0\n",
       "poutcome     10\n",
       "Target        0\n",
       "dtype: int64"
      ]
     },
     "execution_count": 16,
     "metadata": {},
     "output_type": "execute_result"
    }
   ],
   "source": [
    "df.isnull().sum()"
   ]
  },
  {
   "cell_type": "code",
   "execution_count": 17,
   "id": "a84b1a0d",
   "metadata": {},
   "outputs": [
    {
     "data": {
      "text/plain": [
       "Index(['age', 'job', 'marital', 'education', 'default', 'balance', 'housing',\n",
       "       'loan', 'contact', 'day', 'month', 'duration', 'campaign', 'pdays',\n",
       "       'previous', 'poutcome', 'Target'],\n",
       "      dtype='object')"
      ]
     },
     "execution_count": 17,
     "metadata": {},
     "output_type": "execute_result"
    }
   ],
   "source": [
    "df.columns"
   ]
  },
  {
   "cell_type": "code",
   "execution_count": 18,
   "id": "b0cd997d",
   "metadata": {},
   "outputs": [],
   "source": [
    "num_cols=df[['contact','poutcome']]"
   ]
  },
  {
   "cell_type": "code",
   "execution_count": 19,
   "id": "1da795ed",
   "metadata": {},
   "outputs": [
    {
     "data": {
      "text/plain": [
       "contact     14\n",
       "poutcome    10\n",
       "dtype: int64"
      ]
     },
     "execution_count": 19,
     "metadata": {},
     "output_type": "execute_result"
    }
   ],
   "source": [
    "num_cols.isna().sum()"
   ]
  },
  {
   "cell_type": "code",
   "execution_count": 20,
   "id": "62f10c5a",
   "metadata": {},
   "outputs": [],
   "source": [
    "### filling null values with prevoius value"
   ]
  },
  {
   "cell_type": "code",
   "execution_count": 21,
   "id": "1eb81276",
   "metadata": {},
   "outputs": [],
   "source": [
    "df1=df.fillna(method='pad')"
   ]
  },
  {
   "cell_type": "code",
   "execution_count": 22,
   "id": "b691a4ec",
   "metadata": {},
   "outputs": [
    {
     "data": {
      "text/plain": [
       "age          0\n",
       "job          0\n",
       "marital      0\n",
       "education    0\n",
       "default      0\n",
       "balance      0\n",
       "housing      0\n",
       "loan         0\n",
       "contact      0\n",
       "day          0\n",
       "month        0\n",
       "duration     0\n",
       "campaign     0\n",
       "pdays        0\n",
       "previous     0\n",
       "poutcome     0\n",
       "Target       0\n",
       "dtype: int64"
      ]
     },
     "execution_count": 22,
     "metadata": {},
     "output_type": "execute_result"
    }
   ],
   "source": [
    "df1.isna().sum()"
   ]
  },
  {
   "cell_type": "code",
   "execution_count": 23,
   "id": "79db3260",
   "metadata": {},
   "outputs": [],
   "source": [
    "# find features with one value"
   ]
  },
  {
   "cell_type": "code",
   "execution_count": 24,
   "id": "4ba54402",
   "metadata": {},
   "outputs": [
    {
     "name": "stdout",
     "output_type": "stream",
     "text": [
      "age 77\n",
      "job 12\n",
      "marital 3\n",
      "education 4\n",
      "default 2\n",
      "balance 7168\n",
      "housing 2\n",
      "loan 2\n",
      "contact 3\n",
      "day 31\n",
      "month 12\n",
      "duration 1573\n",
      "campaign 48\n",
      "pdays 559\n",
      "previous 41\n",
      "poutcome 4\n",
      "Target 2\n"
     ]
    }
   ],
   "source": [
    "for column in df1.columns:\n",
    "    print(column,df1[column].nunique())\n",
    " # ther is no features with one value   "
   ]
  },
  {
   "cell_type": "code",
   "execution_count": 25,
   "id": "7788e6ed",
   "metadata": {},
   "outputs": [],
   "source": [
    "# Explore the categorical features"
   ]
  },
  {
   "cell_type": "code",
   "execution_count": 26,
   "id": "2816afa8",
   "metadata": {},
   "outputs": [],
   "source": [
    "categorical_features=[feature for feature in df1.columns if((df1[feature].dtype=='O')&(feature not in ['Target']))]\n"
   ]
  },
  {
   "cell_type": "code",
   "execution_count": 27,
   "id": "438c955d",
   "metadata": {},
   "outputs": [
    {
     "data": {
      "text/plain": [
       "['job',\n",
       " 'marital',\n",
       " 'education',\n",
       " 'default',\n",
       " 'housing',\n",
       " 'loan',\n",
       " 'contact',\n",
       " 'month',\n",
       " 'poutcome']"
      ]
     },
     "execution_count": 27,
     "metadata": {},
     "output_type": "execute_result"
    }
   ],
   "source": [
    "categorical_features"
   ]
  },
  {
   "cell_type": "code",
   "execution_count": 28,
   "id": "3ae23a2f",
   "metadata": {},
   "outputs": [
    {
     "name": "stdout",
     "output_type": "stream",
     "text": [
      "The feature is job and number of categories are 12\n",
      "The feature is marital and number of categories are 3\n",
      "The feature is education and number of categories are 4\n",
      "The feature is default and number of categories are 2\n",
      "The feature is housing and number of categories are 2\n",
      "The feature is loan and number of categories are 2\n",
      "The feature is contact and number of categories are 4\n",
      "The feature is month and number of categories are 12\n",
      "The feature is poutcome and number of categories are 5\n"
     ]
    }
   ],
   "source": [
    "for feature in categorical_features:\n",
    "    print('The feature is {} and number of categories are {}'.format(feature,len(df[feature].unique())))"
   ]
  },
  {
   "cell_type": "code",
   "execution_count": 29,
   "id": "ee3717f9",
   "metadata": {},
   "outputs": [],
   "source": [
    "# there are 9 categorical features & job and month has highest number of categorical values"
   ]
  },
  {
   "cell_type": "code",
   "execution_count": 30,
   "id": "7ffc30e4",
   "metadata": {},
   "outputs": [],
   "source": [
    "\n",
    "# find categorical feature distribution \n",
    " #seaborn library-countplot"
   ]
  },
  {
   "cell_type": "code",
   "execution_count": 31,
   "id": "7fd279e4",
   "metadata": {},
   "outputs": [
    {
     "data": {
      "image/png": "[encoded data removed]",
      "text/plain": [
       "<Figure size 1500x8000 with 9 Axes>"
      ]
     },
     "metadata": {},
     "output_type": "display_data"
    }
   ],
   "source": [
    "# check count based on categorical features\n",
    "plt.figure(figsize=(15,80),facecolor='white')\n",
    "plotnumber=1\n",
    "for categorical_features in categorical_features:\n",
    "    ax=plt.subplot(12,3,plotnumber)\n",
    "    sns.countplot(y=categorical_features,data=df1)\n",
    "    plt.xlabel(categorical_features)\n",
    "    plt.title(categorical_features)\n",
    "    plotnumber+=1\n",
    "plt.show()    "
   ]
  },
  {
   "cell_type": "code",
   "execution_count": 32,
   "id": "fbd7a2fe",
   "metadata": {},
   "outputs": [],
   "source": [
    "# Client with job type as management records are high in given dataset and housemaid are very less\n",
    "# Client who married are high in records in given dtaset and divorced are less\n",
    "# Client whose education background is secondary are in high numbers in given dataset\n",
    "# defualt (has credit in default?) feature seems to be does not play importand role as it has value of no at high ratio to value yes which can drop\n",
    "# data in month of may is high and less n dec\n"
   ]
  },
  {
   "cell_type": "code",
   "execution_count": 33,
   "id": "2d01a2d7",
   "metadata": {},
   "outputs": [],
   "source": [
    "# relationship between categorical features and target "
   ]
  },
  {
   "cell_type": "code",
   "execution_count": null,
   "id": "de651df8",
   "metadata": {},
   "outputs": [],
   "source": [
    "\n",
    "   "
   ]
  },
  {
   "cell_type": "code",
   "execution_count": 34,
   "id": "c0fc726e",
   "metadata": {},
   "outputs": [],
   "source": [
    "# check target label split over categorical features and find the count"
   ]
  },
  {
   "cell_type": "code",
   "execution_count": null,
   "id": "e04a553d",
   "metadata": {},
   "outputs": [],
   "source": [
    "\n",
    "        "
   ]
  },
  {
   "cell_type": "code",
   "execution_count": 35,
   "id": "3dc8f87b",
   "metadata": {},
   "outputs": [],
   "source": [
    "# Explore the Numerical features"
   ]
  },
  {
   "cell_type": "code",
   "execution_count": 36,
   "id": "3f7f6c3b",
   "metadata": {},
   "outputs": [
    {
     "name": "stdout",
     "output_type": "stream",
     "text": [
      "Number of numerical variables: 7\n"
     ]
    },
    {
     "data": {
      "text/html": [
       "<div>\n",
       "<style scoped>\n",
       "    .dataframe tbody tr th:only-of-type {\n",
       "        vertical-align: middle;\n",
       "    }\n",
       "\n",
       "    .dataframe tbody tr th {\n",
       "        vertical-align: top;\n",
       "    }\n",
       "\n",
       "    .dataframe thead th {\n",
       "        text-align: right;\n",
       "    }\n",
       "</style>\n",
       "<table border=\"1\" class=\"dataframe\">\n",
       "  <thead>\n",
       "    <tr style=\"text-align: right;\">\n",
       "      <th></th>\n",
       "      <th>age</th>\n",
       "      <th>balance</th>\n",
       "      <th>day</th>\n",
       "      <th>duration</th>\n",
       "      <th>campaign</th>\n",
       "      <th>pdays</th>\n",
       "      <th>previous</th>\n",
       "    </tr>\n",
       "  </thead>\n",
       "  <tbody>\n",
       "    <tr>\n",
       "      <th>0</th>\n",
       "      <td>58</td>\n",
       "      <td>2143</td>\n",
       "      <td>5</td>\n",
       "      <td>261</td>\n",
       "      <td>1</td>\n",
       "      <td>-1</td>\n",
       "      <td>0</td>\n",
       "    </tr>\n",
       "    <tr>\n",
       "      <th>1</th>\n",
       "      <td>44</td>\n",
       "      <td>29</td>\n",
       "      <td>5</td>\n",
       "      <td>151</td>\n",
       "      <td>1</td>\n",
       "      <td>-1</td>\n",
       "      <td>0</td>\n",
       "    </tr>\n",
       "    <tr>\n",
       "      <th>2</th>\n",
       "      <td>33</td>\n",
       "      <td>2</td>\n",
       "      <td>5</td>\n",
       "      <td>76</td>\n",
       "      <td>1</td>\n",
       "      <td>-1</td>\n",
       "      <td>0</td>\n",
       "    </tr>\n",
       "    <tr>\n",
       "      <th>3</th>\n",
       "      <td>47</td>\n",
       "      <td>1506</td>\n",
       "      <td>5</td>\n",
       "      <td>92</td>\n",
       "      <td>1</td>\n",
       "      <td>-1</td>\n",
       "      <td>0</td>\n",
       "    </tr>\n",
       "    <tr>\n",
       "      <th>4</th>\n",
       "      <td>33</td>\n",
       "      <td>1</td>\n",
       "      <td>5</td>\n",
       "      <td>198</td>\n",
       "      <td>1</td>\n",
       "      <td>-1</td>\n",
       "      <td>0</td>\n",
       "    </tr>\n",
       "  </tbody>\n",
       "</table>\n",
       "</div>"
      ],
      "text/plain": [
       "   age  balance  day  duration  campaign  pdays  previous\n",
       "0   58     2143    5       261         1     -1         0\n",
       "1   44       29    5       151         1     -1         0\n",
       "2   33        2    5        76         1     -1         0\n",
       "3   47     1506    5        92         1     -1         0\n",
       "4   33        1    5       198         1     -1         0"
      ]
     },
     "execution_count": 36,
     "metadata": {},
     "output_type": "execute_result"
    }
   ],
   "source": [
    "# list of numerical variable\n",
    "numerical_features=[feature for feature in df.columns if((df[feature].dtypes !='O')&(feature not in ['Target']))]\n",
    "print('Number of numerical variables:',len(numerical_features))\n",
    "\n",
    "# visualise the numerical variables\n",
    "df1[numerical_features].head()"
   ]
  },
  {
   "cell_type": "code",
   "execution_count": 37,
   "id": "05d91ea0",
   "metadata": {},
   "outputs": [],
   "source": [
    "# find discrete numerical features"
   ]
  },
  {
   "cell_type": "code",
   "execution_count": 38,
   "id": "fcedd39e",
   "metadata": {},
   "outputs": [
    {
     "name": "stdout",
     "output_type": "stream",
     "text": [
      "Discrete variable count:0\n"
     ]
    }
   ],
   "source": [
    "discrete_feature=[feature for feature in numerical_features if len(df[feature].unique())<25]\n",
    "print('Discrete variable count:{}'.format(len(discrete_feature)))"
   ]
  },
  {
   "cell_type": "code",
   "execution_count": 39,
   "id": "419f1575",
   "metadata": {},
   "outputs": [
    {
     "name": "stdout",
     "output_type": "stream",
     "text": [
      "continuous feature count7\n"
     ]
    }
   ],
   "source": [
    "# Find continuous numerical features\n",
    "continuous_features=[feature for feature in numerical_features if feature not in discrete_feature+['Target']]\n",
    "print('continuous feature count{}'.format(len(continuous_features)))"
   ]
  },
  {
   "cell_type": "code",
   "execution_count": 40,
   "id": "9592f645",
   "metadata": {},
   "outputs": [
    {
     "name": "stderr",
     "output_type": "stream",
     "text": [
      "C:\\Users\\ACER\\anaconda3\\lib\\site-packages\\seaborn\\distributions.py:2619: FutureWarning: `distplot` is a deprecated function and will be removed in a future version. Please adapt your code to use either `displot` (a figure-level function with similar flexibility) or `histplot` (an axes-level function for histograms).\n",
      "  warnings.warn(msg, FutureWarning)\n",
      "C:\\Users\\ACER\\anaconda3\\lib\\site-packages\\seaborn\\distributions.py:2619: FutureWarning: `distplot` is a deprecated function and will be removed in a future version. Please adapt your code to use either `displot` (a figure-level function with similar flexibility) or `histplot` (an axes-level function for histograms).\n",
      "  warnings.warn(msg, FutureWarning)\n",
      "C:\\Users\\ACER\\anaconda3\\lib\\site-packages\\seaborn\\distributions.py:2619: FutureWarning: `distplot` is a deprecated function and will be removed in a future version. Please adapt your code to use either `displot` (a figure-level function with similar flexibility) or `histplot` (an axes-level function for histograms).\n",
      "  warnings.warn(msg, FutureWarning)\n",
      "C:\\Users\\ACER\\anaconda3\\lib\\site-packages\\seaborn\\distributions.py:2619: FutureWarning: `distplot` is a deprecated function and will be removed in a future version. Please adapt your code to use either `displot` (a figure-level function with similar flexibility) or `histplot` (an axes-level function for histograms).\n",
      "  warnings.warn(msg, FutureWarning)\n",
      "C:\\Users\\ACER\\anaconda3\\lib\\site-packages\\seaborn\\distributions.py:2619: FutureWarning: `distplot` is a deprecated function and will be removed in a future version. Please adapt your code to use either `displot` (a figure-level function with similar flexibility) or `histplot` (an axes-level function for histograms).\n",
      "  warnings.warn(msg, FutureWarning)\n",
      "C:\\Users\\ACER\\anaconda3\\lib\\site-packages\\seaborn\\distributions.py:2619: FutureWarning: `distplot` is a deprecated function and will be removed in a future version. Please adapt your code to use either `displot` (a figure-level function with similar flexibility) or `histplot` (an axes-level function for histograms).\n",
      "  warnings.warn(msg, FutureWarning)\n",
      "C:\\Users\\ACER\\anaconda3\\lib\\site-packages\\seaborn\\distributions.py:2619: FutureWarning: `distplot` is a deprecated function and will be removed in a future version. Please adapt your code to use either `displot` (a figure-level function with similar flexibility) or `histplot` (an axes-level function for histograms).\n",
      "  warnings.warn(msg, FutureWarning)\n"
     ]
    },
    {
     "data": {
      "image/png": "[encoded data removed]",
      "text/plain": [
       "<Figure size 2000x6000 with 7 Axes>"
      ]
     },
     "metadata": {},
     "output_type": "display_data"
    }
   ],
   "source": [
    "# plot a univariate distribution of continues observations\n",
    "plt.figure(figsize=(20,60),facecolor='white')\n",
    "plotnumber=1\n",
    "for continuous_features in continuous_features:\n",
    "    ax=plt.subplot(12,3,plotnumber)\n",
    "    sns.distplot(df1[continuous_features])\n",
    "    plt.xlabel(continuous_features)\n",
    "    plotnumber+=1\n",
    "plt.show()    "
   ]
  },
  {
   "cell_type": "code",
   "execution_count": 41,
   "id": "ea940c8d",
   "metadata": {},
   "outputs": [],
   "source": [
    "# it seems age ,days distributed normally\n",
    "# all others are heavely skewed towards left and seems to be have some outliers "
   ]
  },
  {
   "cell_type": "code",
   "execution_count": 42,
   "id": "67f0a7bb",
   "metadata": {},
   "outputs": [],
   "source": [
    "# Relation between continuous numerical features and Target"
   ]
  },
  {
   "cell_type": "code",
   "execution_count": 43,
   "id": "296e26f4",
   "metadata": {},
   "outputs": [
    {
     "data": {
      "image/png": "[encoded data removed]",
      "text/plain": [
       "<Figure size 640x480 with 1 Axes>"
      ]
     },
     "metadata": {},
     "output_type": "display_data"
    }
   ],
   "source": [
    "# boxplot to show target distribution with respect numerical features\n",
    "sns.boxplot(x='Target',y=\"age\",data=df1)\n",
    "plt.grid(True)\n",
    "# whose having older age & younger age showing intrest on the deposit"
   ]
  },
  {
   "cell_type": "code",
   "execution_count": 44,
   "id": "c5c47528",
   "metadata": {},
   "outputs": [
    {
     "data": {
      "image/png": "[encoded data removed]",
      "text/plain": [
       "<Figure size 640x480 with 1 Axes>"
      ]
     },
     "metadata": {},
     "output_type": "display_data"
    }
   ],
   "source": [
    "sns.boxplot(x='Target',y=\"balance\",data=df1)\n",
    "plt.grid(True)"
   ]
  },
  {
   "cell_type": "code",
   "execution_count": 45,
   "id": "99db1ba6",
   "metadata": {},
   "outputs": [
    {
     "data": {
      "image/png": "[encoded data removed]",
      "text/plain": [
       "<Figure size 640x480 with 1 Axes>"
      ]
     },
     "metadata": {},
     "output_type": "display_data"
    }
   ],
   "source": [
    "sns.boxplot(x='Target',y=\"day\",data=df1)\n",
    "plt.grid(True)"
   ]
  },
  {
   "cell_type": "code",
   "execution_count": 46,
   "id": "bace9b76",
   "metadata": {},
   "outputs": [
    {
     "data": {
      "image/png": "[encoded data removed]",
      "text/plain": [
       "<Figure size 640x480 with 1 Axes>"
      ]
     },
     "metadata": {},
     "output_type": "display_data"
    }
   ],
   "source": [
    "sns.boxplot(x='Target',y='duration',data=df1)\n",
    "plt.grid(True)\n",
    "# clint shows intrest on deposit who had discussion for longer duration  "
   ]
  },
  {
   "cell_type": "code",
   "execution_count": 47,
   "id": "397f8cf2",
   "metadata": {},
   "outputs": [
    {
     "data": {
      "image/png": "[encoded data removed]",
      "text/plain": [
       "<Figure size 640x480 with 1 Axes>"
      ]
     },
     "metadata": {},
     "output_type": "display_data"
    }
   ],
   "source": [
    "sns.boxplot(x='Target',y='campaign',data=df1)\n",
    "plt.grid(True)"
   ]
  },
  {
   "cell_type": "code",
   "execution_count": 48,
   "id": "6646d377",
   "metadata": {},
   "outputs": [
    {
     "data": {
      "image/png": "[encoded data removed]",
      "text/plain": [
       "<Figure size 640x480 with 1 Axes>"
      ]
     },
     "metadata": {},
     "output_type": "display_data"
    }
   ],
   "source": [
    "sns.boxplot(x='Target',y='pdays',data=df1)\n",
    "plt.grid(True)"
   ]
  },
  {
   "cell_type": "code",
   "execution_count": 49,
   "id": "b11bb345",
   "metadata": {},
   "outputs": [
    {
     "data": {
      "image/png": "[encoded data removed]",
      "text/plain": [
       "<Figure size 640x480 with 1 Axes>"
      ]
     },
     "metadata": {},
     "output_type": "display_data"
    }
   ],
   "source": [
    "sns.boxplot(x='Target',y='previous',data=df1)\n",
    "plt.grid(True)"
   ]
  },
  {
   "cell_type": "markdown",
   "id": "aaa07975",
   "metadata": {},
   "source": [
    "### find the Outliers in numerical feattures"
   ]
  },
  {
   "cell_type": "code",
   "execution_count": 50,
   "id": "4c15640a",
   "metadata": {},
   "outputs": [
    {
     "name": "stderr",
     "output_type": "stream",
     "text": [
      "C:\\Users\\ACER\\anaconda3\\lib\\site-packages\\seaborn\\_decorators.py:36: FutureWarning: Pass the following variable as a keyword arg: x. From version 0.12, the only valid positional argument will be `data`, and passing other arguments without an explicit keyword will result in an error or misinterpretation.\n",
      "  warnings.warn(\n",
      "C:\\Users\\ACER\\anaconda3\\lib\\site-packages\\seaborn\\_decorators.py:36: FutureWarning: Pass the following variable as a keyword arg: x. From version 0.12, the only valid positional argument will be `data`, and passing other arguments without an explicit keyword will result in an error or misinterpretation.\n",
      "  warnings.warn(\n",
      "C:\\Users\\ACER\\anaconda3\\lib\\site-packages\\seaborn\\_decorators.py:36: FutureWarning: Pass the following variable as a keyword arg: x. From version 0.12, the only valid positional argument will be `data`, and passing other arguments without an explicit keyword will result in an error or misinterpretation.\n",
      "  warnings.warn(\n",
      "C:\\Users\\ACER\\anaconda3\\lib\\site-packages\\seaborn\\_decorators.py:36: FutureWarning: Pass the following variable as a keyword arg: x. From version 0.12, the only valid positional argument will be `data`, and passing other arguments without an explicit keyword will result in an error or misinterpretation.\n",
      "  warnings.warn(\n",
      "C:\\Users\\ACER\\anaconda3\\lib\\site-packages\\seaborn\\_decorators.py:36: FutureWarning: Pass the following variable as a keyword arg: x. From version 0.12, the only valid positional argument will be `data`, and passing other arguments without an explicit keyword will result in an error or misinterpretation.\n",
      "  warnings.warn(\n",
      "C:\\Users\\ACER\\anaconda3\\lib\\site-packages\\seaborn\\_decorators.py:36: FutureWarning: Pass the following variable as a keyword arg: x. From version 0.12, the only valid positional argument will be `data`, and passing other arguments without an explicit keyword will result in an error or misinterpretation.\n",
      "  warnings.warn(\n",
      "C:\\Users\\ACER\\anaconda3\\lib\\site-packages\\seaborn\\_decorators.py:36: FutureWarning: Pass the following variable as a keyword arg: x. From version 0.12, the only valid positional argument will be `data`, and passing other arguments without an explicit keyword will result in an error or misinterpretation.\n",
      "  warnings.warn(\n"
     ]
    },
    {
     "data": {
      "image/png": "[encoded data removed]",
      "text/plain": [
       "<Figure size 2000x6000 with 7 Axes>"
      ]
     },
     "metadata": {},
     "output_type": "display_data"
    }
   ],
   "source": [
    "# boxplot on numerical features to find outliers\n",
    "plt.figure(figsize=(20,60),facecolor='white')\n",
    "plotnumder=1\n",
    "for numerical_feature in numerical_features:\n",
    "    ax=plt.subplot(12,3,plotnumber)\n",
    "    sns.boxplot(df[numerical_feature])\n",
    "    plt.xlabel(numerical_feature)\n",
    "    plotnumber+=1\n",
    "plt.show()    "
   ]
  },
  {
   "cell_type": "code",
   "execution_count": 51,
   "id": "79d195ad",
   "metadata": {},
   "outputs": [],
   "source": [
    "# age,balance,duration,compaign,pdays and previouse has some outliers"
   ]
  },
  {
   "cell_type": "markdown",
   "id": "92fa7675",
   "metadata": {},
   "source": [
    "### Explore the Correlation between numerical features"
   ]
  },
  {
   "cell_type": "code",
   "execution_count": 52,
   "id": "57b02cf4",
   "metadata": {},
   "outputs": [
    {
     "data": {
      "image/png": "[encoded data removed]",
      "text/plain": [
       "<Figure size 1500x700 with 2 Axes>"
      ]
     },
     "metadata": {},
     "output_type": "display_data"
    }
   ],
   "source": [
    "# Checking for correlation\n",
    "cor_mat=df1.corr()\n",
    "fig=plt.figure(figsize=(15,7))\n",
    "sns.heatmap(cor_mat,annot=True,cmap='YlGnBu')\n",
    "plt.show()"
   ]
  },
  {
   "cell_type": "code",
   "execution_count": 53,
   "id": "13cbeb08",
   "metadata": {},
   "outputs": [],
   "source": [
    "# It seems no feature is heavily correlated with other features"
   ]
  },
  {
   "cell_type": "markdown",
   "id": "1c103a74",
   "metadata": {},
   "source": [
    "### Handling missing values"
   ]
  },
  {
   "cell_type": "code",
   "execution_count": 54,
   "id": "d04e0464",
   "metadata": {},
   "outputs": [],
   "source": [
    "df1=df.fillna(method='pad')"
   ]
  },
  {
   "cell_type": "code",
   "execution_count": 55,
   "id": "58aae372",
   "metadata": {},
   "outputs": [
    {
     "data": {
      "text/plain": [
       "age          0\n",
       "job          0\n",
       "marital      0\n",
       "education    0\n",
       "default      0\n",
       "balance      0\n",
       "housing      0\n",
       "loan         0\n",
       "contact      0\n",
       "day          0\n",
       "month        0\n",
       "duration     0\n",
       "campaign     0\n",
       "pdays        0\n",
       "previous     0\n",
       "poutcome     0\n",
       "Target       0\n",
       "dtype: int64"
      ]
     },
     "execution_count": 55,
     "metadata": {},
     "output_type": "execute_result"
    }
   ],
   "source": [
    "df1.isna().sum()"
   ]
  },
  {
   "cell_type": "markdown",
   "id": "604a4929",
   "metadata": {},
   "source": [
    "### Check the Data set is balanced or not based on target values in classification"
   ]
  },
  {
   "cell_type": "code",
   "execution_count": 56,
   "id": "03467bd9",
   "metadata": {},
   "outputs": [
    {
     "data": {
      "image/png": "[encoded data removed]",
      "text/plain": [
       "<Figure size 640x480 with 1 Axes>"
      ]
     },
     "metadata": {},
     "output_type": "display_data"
    }
   ],
   "source": [
    "# total patient count based on target\n",
    "sns.countplot(x='Target',data=df1)\n",
    "plt.show()"
   ]
  },
  {
   "cell_type": "code",
   "execution_count": 57,
   "id": "f4514e0f",
   "metadata": {},
   "outputs": [
    {
     "data": {
      "text/plain": [
       "Target\n",
       "no     39922\n",
       "yes     5289\n",
       "Name: Target, dtype: int64"
      ]
     },
     "execution_count": 57,
     "metadata": {},
     "output_type": "execute_result"
    }
   ],
   "source": [
    "df1['Target'].groupby(df['Target']).count()"
   ]
  },
  {
   "cell_type": "code",
   "execution_count": 58,
   "id": "ea57c0d0",
   "metadata": {},
   "outputs": [
    {
     "data": {
      "image/png": "[encoded data removed]",
      "text/plain": [
       "<Figure size 800x800 with 1 Axes>"
      ]
     },
     "metadata": {},
     "output_type": "display_data"
    }
   ],
   "source": [
    "# pie plot\n",
    "plt.figure(figsize=(8,8))\n",
    "plt.title(\"Subscribe YES or NO?\", size=10, fontweight='bold')\n",
    "plt.pie(df['Target'].value_counts(), autopct='%.0f%%',\n",
    "        textprops={'fontsize': 15, 'color': 'white'}, explode=(0.1, 0))\n",
    "plt.legend(['No', 'Yes'], loc='lower left', fontsize=13)\n",
    "plt.show()"
   ]
  },
  {
   "cell_type": "code",
   "execution_count": 59,
   "id": "730d7e8b",
   "metadata": {},
   "outputs": [],
   "source": [
    "# not balanced"
   ]
  },
  {
   "cell_type": "markdown",
   "id": "8ce3d7cc",
   "metadata": {},
   "source": [
    "### label encoding"
   ]
  },
  {
   "cell_type": "code",
   "execution_count": 60,
   "id": "4a3cbdfe",
   "metadata": {},
   "outputs": [
    {
     "data": {
      "text/plain": [
       "array(['management', 'technician', 'entrepreneur', 'blue-collar',\n",
       "       'unknown', 'retired', 'admin.', 'services', 'self-employed',\n",
       "       'unemployed', 'housemaid', 'student'], dtype=object)"
      ]
     },
     "execution_count": 60,
     "metadata": {},
     "output_type": "execute_result"
    }
   ],
   "source": [
    "df1['job'].unique()"
   ]
  },
  {
   "cell_type": "code",
   "execution_count": 61,
   "id": "563454e9",
   "metadata": {},
   "outputs": [],
   "source": [
    "df1['job'] = df1['job'].replace({'management' :1, 'technician' :2, 'entrepreneur':3,\n",
    "                             'blue-collar' :4, 'retired' :5, 'admin.':6,\n",
    "                             'services' :7, 'self-employed' :8, 'unemployed' :9,\n",
    "                             'housemaid':10, 'student':11, 'unknown':-1\n",
    "                             })"
   ]
  },
  {
   "cell_type": "code",
   "execution_count": 62,
   "id": "8d7c1d42",
   "metadata": {},
   "outputs": [
    {
     "data": {
      "text/plain": [
       "array([ 1,  2,  3,  4, -1,  5,  6,  7,  8,  9, 10, 11], dtype=int64)"
      ]
     },
     "execution_count": 62,
     "metadata": {},
     "output_type": "execute_result"
    }
   ],
   "source": [
    "df1['job'].unique()"
   ]
  },
  {
   "cell_type": "code",
   "execution_count": 63,
   "id": "7852fdec",
   "metadata": {},
   "outputs": [
    {
     "data": {
      "text/plain": [
       "array(['tertiary', 'secondary', 'unknown', 'primary'], dtype=object)"
      ]
     },
     "execution_count": 63,
     "metadata": {},
     "output_type": "execute_result"
    }
   ],
   "source": [
    "df1['education'].unique()"
   ]
  },
  {
   "cell_type": "code",
   "execution_count": 64,
   "id": "b1c292dc",
   "metadata": {},
   "outputs": [],
   "source": [
    "df1['education'] = df1['education'].replace({'tertiary' :1, 'secondary' :2, 'primary':3,\n",
    "                       'unknown':-1})"
   ]
  },
  {
   "cell_type": "code",
   "execution_count": 65,
   "id": "f2f6eb62",
   "metadata": {},
   "outputs": [
    {
     "data": {
      "text/plain": [
       "array([ 1,  2, -1,  3], dtype=int64)"
      ]
     },
     "execution_count": 65,
     "metadata": {},
     "output_type": "execute_result"
    }
   ],
   "source": [
    "df1['education'].unique()"
   ]
  },
  {
   "cell_type": "code",
   "execution_count": 66,
   "id": "5f93a1da",
   "metadata": {},
   "outputs": [
    {
     "data": {
      "text/plain": [
       "array(['unknown', 'cellular', 'telephone'], dtype=object)"
      ]
     },
     "execution_count": 66,
     "metadata": {},
     "output_type": "execute_result"
    }
   ],
   "source": [
    "df1['contact'].unique()"
   ]
  },
  {
   "cell_type": "code",
   "execution_count": 67,
   "id": "5dcaad0f",
   "metadata": {},
   "outputs": [],
   "source": [
    "df1['contact'] = df1['contact'].replace({'cellular' :1, 'telephone' :2,\n",
    "                       'unknown':-1})"
   ]
  },
  {
   "cell_type": "code",
   "execution_count": 68,
   "id": "aff89ff9",
   "metadata": {},
   "outputs": [
    {
     "data": {
      "text/plain": [
       "array([-1,  1,  2], dtype=int64)"
      ]
     },
     "execution_count": 68,
     "metadata": {},
     "output_type": "execute_result"
    }
   ],
   "source": [
    "df1['contact'].unique()"
   ]
  },
  {
   "cell_type": "code",
   "execution_count": 69,
   "id": "11d2258b",
   "metadata": {},
   "outputs": [
    {
     "data": {
      "text/plain": [
       "array(['may', 'jun', 'jul', 'aug', 'oct', 'nov', 'dec', 'jan', 'feb',\n",
       "       'mar', 'apr', 'sep'], dtype=object)"
      ]
     },
     "execution_count": 69,
     "metadata": {},
     "output_type": "execute_result"
    }
   ],
   "source": [
    "df1['month'].unique()"
   ]
  },
  {
   "cell_type": "code",
   "execution_count": 70,
   "id": "3ce54325",
   "metadata": {},
   "outputs": [],
   "source": [
    "df1['month'] = df1['month'].replace({'jan' :1, 'feb' :2, 'mar':3,\n",
    "                             'apr' :4, 'may' :5, 'jun':6,\n",
    "                             'jul' :7, 'aug' :8, 'sep' :9,\n",
    "                             'oct':10, 'nov':11, 'dec':12\n",
    "                             })"
   ]
  },
  {
   "cell_type": "code",
   "execution_count": 71,
   "id": "d1f1858e",
   "metadata": {},
   "outputs": [
    {
     "data": {
      "text/plain": [
       "array([ 5,  6,  7,  8, 10, 11, 12,  1,  2,  3,  4,  9], dtype=int64)"
      ]
     },
     "execution_count": 71,
     "metadata": {},
     "output_type": "execute_result"
    }
   ],
   "source": [
    "df1['month'].unique()"
   ]
  },
  {
   "cell_type": "code",
   "execution_count": 72,
   "id": "fb200dea",
   "metadata": {},
   "outputs": [
    {
     "data": {
      "text/plain": [
       "array(['unknown', 'failure', 'other', 'success'], dtype=object)"
      ]
     },
     "execution_count": 72,
     "metadata": {},
     "output_type": "execute_result"
    }
   ],
   "source": [
    "df1['poutcome'].unique()"
   ]
  },
  {
   "cell_type": "code",
   "execution_count": 73,
   "id": "0d3b4069",
   "metadata": {},
   "outputs": [],
   "source": [
    "df1['poutcome'] = df1['poutcome'].replace({'failure' :1, 'other' :2,'success' :3,\n",
    "                       'unknown':-1})"
   ]
  },
  {
   "cell_type": "code",
   "execution_count": 74,
   "id": "1f5bc4dd",
   "metadata": {},
   "outputs": [
    {
     "data": {
      "text/plain": [
       "array([-1,  1,  2,  3], dtype=int64)"
      ]
     },
     "execution_count": 74,
     "metadata": {},
     "output_type": "execute_result"
    }
   ],
   "source": [
    "df1['poutcome'].unique()"
   ]
  },
  {
   "cell_type": "code",
   "execution_count": 75,
   "id": "7acb70bd",
   "metadata": {},
   "outputs": [
    {
     "data": {
      "text/plain": [
       "array(['married', 'single', 'divorced'], dtype=object)"
      ]
     },
     "execution_count": 75,
     "metadata": {},
     "output_type": "execute_result"
    }
   ],
   "source": [
    "df1['marital'].unique()"
   ]
  },
  {
   "cell_type": "code",
   "execution_count": 76,
   "id": "075df1f4",
   "metadata": {},
   "outputs": [],
   "source": [
    "df1['marital'] = df1['marital'].replace({'married' :0, 'single' :1,'divorced' :2})"
   ]
  },
  {
   "cell_type": "code",
   "execution_count": 77,
   "id": "c9912157",
   "metadata": {},
   "outputs": [
    {
     "data": {
      "text/plain": [
       "array([0, 1, 2], dtype=int64)"
      ]
     },
     "execution_count": 77,
     "metadata": {},
     "output_type": "execute_result"
    }
   ],
   "source": [
    "df1['marital'].unique()"
   ]
  },
  {
   "cell_type": "code",
   "execution_count": 78,
   "id": "3d2c40a9",
   "metadata": {},
   "outputs": [
    {
     "data": {
      "text/plain": [
       "array(['no', 'yes'], dtype=object)"
      ]
     },
     "execution_count": 78,
     "metadata": {},
     "output_type": "execute_result"
    }
   ],
   "source": [
    "df1['Target'].unique()"
   ]
  },
  {
   "cell_type": "code",
   "execution_count": 79,
   "id": "140e11c6",
   "metadata": {},
   "outputs": [],
   "source": [
    "df1['Target'] = df1['Target'].replace({'no' :0, 'yes' :1})"
   ]
  },
  {
   "cell_type": "code",
   "execution_count": 80,
   "id": "110c9eb1",
   "metadata": {},
   "outputs": [
    {
     "data": {
      "text/plain": [
       "array([0, 1], dtype=int64)"
      ]
     },
     "execution_count": 80,
     "metadata": {},
     "output_type": "execute_result"
    }
   ],
   "source": [
    "df1['Target'].unique()"
   ]
  },
  {
   "cell_type": "code",
   "execution_count": 81,
   "id": "8cdcfaf8",
   "metadata": {},
   "outputs": [
    {
     "data": {
      "text/plain": [
       "array(['no', 'yes'], dtype=object)"
      ]
     },
     "execution_count": 81,
     "metadata": {},
     "output_type": "execute_result"
    }
   ],
   "source": [
    "df1['loan'].unique()"
   ]
  },
  {
   "cell_type": "code",
   "execution_count": 82,
   "id": "14422646",
   "metadata": {},
   "outputs": [],
   "source": [
    "df1['loan'] = df1['loan'].replace({'no' :0, 'yes' :1})"
   ]
  },
  {
   "cell_type": "code",
   "execution_count": 83,
   "id": "96b37607",
   "metadata": {},
   "outputs": [
    {
     "data": {
      "text/plain": [
       "array([0, 1], dtype=int64)"
      ]
     },
     "execution_count": 83,
     "metadata": {},
     "output_type": "execute_result"
    }
   ],
   "source": [
    "df1['loan'].unique()"
   ]
  },
  {
   "cell_type": "code",
   "execution_count": 84,
   "id": "415a6a48",
   "metadata": {},
   "outputs": [
    {
     "data": {
      "text/plain": [
       "array(['yes', 'no'], dtype=object)"
      ]
     },
     "execution_count": 84,
     "metadata": {},
     "output_type": "execute_result"
    }
   ],
   "source": [
    "df1['housing'].unique()"
   ]
  },
  {
   "cell_type": "code",
   "execution_count": 85,
   "id": "fccccca2",
   "metadata": {},
   "outputs": [],
   "source": [
    "df1['housing'] = df1['housing'].replace({'no' :0, 'yes' :1})"
   ]
  },
  {
   "cell_type": "code",
   "execution_count": 86,
   "id": "a610d47a",
   "metadata": {},
   "outputs": [
    {
     "data": {
      "text/plain": [
       "array([1, 0], dtype=int64)"
      ]
     },
     "execution_count": 86,
     "metadata": {},
     "output_type": "execute_result"
    }
   ],
   "source": [
    "df1['housing'].unique()"
   ]
  },
  {
   "cell_type": "code",
   "execution_count": 87,
   "id": "52889d08",
   "metadata": {},
   "outputs": [
    {
     "data": {
      "text/plain": [
       "array(['no', 'yes'], dtype=object)"
      ]
     },
     "execution_count": 87,
     "metadata": {},
     "output_type": "execute_result"
    }
   ],
   "source": [
    "df1['default'].unique()"
   ]
  },
  {
   "cell_type": "code",
   "execution_count": 88,
   "id": "a0fe372f",
   "metadata": {},
   "outputs": [],
   "source": [
    "df1['default'] = df1['default'].replace({'no' :0, 'yes' :1})"
   ]
  },
  {
   "cell_type": "code",
   "execution_count": 89,
   "id": "3642b6f4",
   "metadata": {},
   "outputs": [
    {
     "data": {
      "text/plain": [
       "array([0, 1], dtype=int64)"
      ]
     },
     "execution_count": 89,
     "metadata": {},
     "output_type": "execute_result"
    }
   ],
   "source": [
    "df1['default'].unique()"
   ]
  },
  {
   "cell_type": "code",
   "execution_count": 90,
   "id": "228d93fc",
   "metadata": {},
   "outputs": [
    {
     "data": {
      "text/html": [
       "<div>\n",
       "<style scoped>\n",
       "    .dataframe tbody tr th:only-of-type {\n",
       "        vertical-align: middle;\n",
       "    }\n",
       "\n",
       "    .dataframe tbody tr th {\n",
       "        vertical-align: top;\n",
       "    }\n",
       "\n",
       "    .dataframe thead th {\n",
       "        text-align: right;\n",
       "    }\n",
       "</style>\n",
       "<table border=\"1\" class=\"dataframe\">\n",
       "  <thead>\n",
       "    <tr style=\"text-align: right;\">\n",
       "      <th></th>\n",
       "      <th>age</th>\n",
       "      <th>balance</th>\n",
       "      <th>day</th>\n",
       "      <th>duration</th>\n",
       "      <th>campaign</th>\n",
       "      <th>pdays</th>\n",
       "      <th>previous</th>\n",
       "      <th>Target</th>\n",
       "    </tr>\n",
       "  </thead>\n",
       "  <tbody>\n",
       "    <tr>\n",
       "      <th>count</th>\n",
       "      <td>45211.000000</td>\n",
       "      <td>45211.000000</td>\n",
       "      <td>45211.000000</td>\n",
       "      <td>45211.000000</td>\n",
       "      <td>45211.000000</td>\n",
       "      <td>45211.000000</td>\n",
       "      <td>45211.000000</td>\n",
       "      <td>45211.000000</td>\n",
       "    </tr>\n",
       "    <tr>\n",
       "      <th>mean</th>\n",
       "      <td>40.936210</td>\n",
       "      <td>1362.272058</td>\n",
       "      <td>15.806419</td>\n",
       "      <td>258.163080</td>\n",
       "      <td>2.763841</td>\n",
       "      <td>40.197828</td>\n",
       "      <td>0.580323</td>\n",
       "      <td>0.116985</td>\n",
       "    </tr>\n",
       "    <tr>\n",
       "      <th>std</th>\n",
       "      <td>10.618762</td>\n",
       "      <td>3044.765829</td>\n",
       "      <td>8.322476</td>\n",
       "      <td>257.527812</td>\n",
       "      <td>3.098021</td>\n",
       "      <td>100.128746</td>\n",
       "      <td>2.303441</td>\n",
       "      <td>0.321406</td>\n",
       "    </tr>\n",
       "    <tr>\n",
       "      <th>min</th>\n",
       "      <td>18.000000</td>\n",
       "      <td>-8019.000000</td>\n",
       "      <td>1.000000</td>\n",
       "      <td>0.000000</td>\n",
       "      <td>1.000000</td>\n",
       "      <td>-1.000000</td>\n",
       "      <td>0.000000</td>\n",
       "      <td>0.000000</td>\n",
       "    </tr>\n",
       "    <tr>\n",
       "      <th>25%</th>\n",
       "      <td>33.000000</td>\n",
       "      <td>72.000000</td>\n",
       "      <td>8.000000</td>\n",
       "      <td>103.000000</td>\n",
       "      <td>1.000000</td>\n",
       "      <td>-1.000000</td>\n",
       "      <td>0.000000</td>\n",
       "      <td>0.000000</td>\n",
       "    </tr>\n",
       "    <tr>\n",
       "      <th>50%</th>\n",
       "      <td>39.000000</td>\n",
       "      <td>448.000000</td>\n",
       "      <td>16.000000</td>\n",
       "      <td>180.000000</td>\n",
       "      <td>2.000000</td>\n",
       "      <td>-1.000000</td>\n",
       "      <td>0.000000</td>\n",
       "      <td>0.000000</td>\n",
       "    </tr>\n",
       "    <tr>\n",
       "      <th>75%</th>\n",
       "      <td>48.000000</td>\n",
       "      <td>1428.000000</td>\n",
       "      <td>21.000000</td>\n",
       "      <td>319.000000</td>\n",
       "      <td>3.000000</td>\n",
       "      <td>-1.000000</td>\n",
       "      <td>0.000000</td>\n",
       "      <td>0.000000</td>\n",
       "    </tr>\n",
       "    <tr>\n",
       "      <th>max</th>\n",
       "      <td>95.000000</td>\n",
       "      <td>102127.000000</td>\n",
       "      <td>31.000000</td>\n",
       "      <td>4918.000000</td>\n",
       "      <td>63.000000</td>\n",
       "      <td>871.000000</td>\n",
       "      <td>275.000000</td>\n",
       "      <td>1.000000</td>\n",
       "    </tr>\n",
       "  </tbody>\n",
       "</table>\n",
       "</div>"
      ],
      "text/plain": [
       "                age        balance           day      duration      campaign  \\\n",
       "count  45211.000000   45211.000000  45211.000000  45211.000000  45211.000000   \n",
       "mean      40.936210    1362.272058     15.806419    258.163080      2.763841   \n",
       "std       10.618762    3044.765829      8.322476    257.527812      3.098021   \n",
       "min       18.000000   -8019.000000      1.000000      0.000000      1.000000   \n",
       "25%       33.000000      72.000000      8.000000    103.000000      1.000000   \n",
       "50%       39.000000     448.000000     16.000000    180.000000      2.000000   \n",
       "75%       48.000000    1428.000000     21.000000    319.000000      3.000000   \n",
       "max       95.000000  102127.000000     31.000000   4918.000000     63.000000   \n",
       "\n",
       "              pdays      previous        Target  \n",
       "count  45211.000000  45211.000000  45211.000000  \n",
       "mean      40.197828      0.580323      0.116985  \n",
       "std      100.128746      2.303441      0.321406  \n",
       "min       -1.000000      0.000000      0.000000  \n",
       "25%       -1.000000      0.000000      0.000000  \n",
       "50%       -1.000000      0.000000      0.000000  \n",
       "75%       -1.000000      0.000000      0.000000  \n",
       "max      871.000000    275.000000      1.000000  "
      ]
     },
     "execution_count": 90,
     "metadata": {},
     "output_type": "execute_result"
    }
   ],
   "source": [
    "df['Target']=np.where(df['Target']=='yes',1,0)\n",
    "df.describe()"
   ]
  },
  {
   "cell_type": "code",
   "execution_count": 91,
   "id": "4859ac31",
   "metadata": {},
   "outputs": [],
   "source": [
    "from imblearn.under_sampling import RandomUnderSampler\n",
    "X = df1.drop(['Target'], axis=1)\n",
    "y = df1['Target']"
   ]
  },
  {
   "cell_type": "code",
   "execution_count": 92,
   "id": "ab44962f",
   "metadata": {},
   "outputs": [],
   "source": [
    "from sklearn.model_selection import train_test_split\n",
    "  \n",
    "# split into 70:30 ration\n",
    "X_train, X_test, y_train, y_test = train_test_split(X, y, test_size = 0.3, random_state = 0)"
   ]
  },
  {
   "cell_type": "markdown",
   "id": "71bd81f7",
   "metadata": {},
   "source": [
    "### SMOT"
   ]
  },
  {
   "cell_type": "code",
   "execution_count": 93,
   "id": "f1be4c1d",
   "metadata": {},
   "outputs": [
    {
     "data": {
      "image/png": "[encoded data removed]",
      "text/plain": [
       "<Figure size 640x480 with 1 Axes>"
      ]
     },
     "metadata": {},
     "output_type": "display_data"
    }
   ],
   "source": [
    "from collections import Counter\n",
    "from imblearn.over_sampling import SMOTE\n",
    "\n",
    "sm = SMOTE()\n",
    "X_sm, y_sm = sm.fit_resample(X, y)\n",
    "\n",
    "ax = y_sm.value_counts().plot.pie(autopct='%.2f')\n",
    "_= ax.set_title(\"smote-sampling\")"
   ]
  },
  {
   "cell_type": "code",
   "execution_count": 94,
   "id": "68ec8c4b",
   "metadata": {},
   "outputs": [
    {
     "data": {
      "text/plain": [
       "0    39922\n",
       "1    39922\n",
       "Name: Target, dtype: int64"
      ]
     },
     "execution_count": 94,
     "metadata": {},
     "output_type": "execute_result"
    }
   ],
   "source": [
    "y_sm.value_counts()"
   ]
  },
  {
   "cell_type": "markdown",
   "id": "3b29c6c9",
   "metadata": {},
   "source": [
    "### Feature Engineering"
   ]
  },
  {
   "cell_type": "code",
   "execution_count": 95,
   "id": "48f3c0fd",
   "metadata": {},
   "outputs": [],
   "source": [
    "df2=df1.copy()"
   ]
  },
  {
   "cell_type": "code",
   "execution_count": 96,
   "id": "ddfb3d6e",
   "metadata": {},
   "outputs": [
    {
     "data": {
      "text/html": [
       "<div>\n",
       "<style scoped>\n",
       "    .dataframe tbody tr th:only-of-type {\n",
       "        vertical-align: middle;\n",
       "    }\n",
       "\n",
       "    .dataframe tbody tr th {\n",
       "        vertical-align: top;\n",
       "    }\n",
       "\n",
       "    .dataframe thead th {\n",
       "        text-align: right;\n",
       "    }\n",
       "</style>\n",
       "<table border=\"1\" class=\"dataframe\">\n",
       "  <thead>\n",
       "    <tr style=\"text-align: right;\">\n",
       "      <th></th>\n",
       "      <th>age</th>\n",
       "      <th>job</th>\n",
       "      <th>marital</th>\n",
       "      <th>education</th>\n",
       "      <th>default</th>\n",
       "      <th>balance</th>\n",
       "      <th>housing</th>\n",
       "      <th>loan</th>\n",
       "      <th>contact</th>\n",
       "      <th>day</th>\n",
       "      <th>month</th>\n",
       "      <th>duration</th>\n",
       "      <th>campaign</th>\n",
       "      <th>pdays</th>\n",
       "      <th>previous</th>\n",
       "      <th>poutcome</th>\n",
       "      <th>Target</th>\n",
       "    </tr>\n",
       "  </thead>\n",
       "  <tbody>\n",
       "    <tr>\n",
       "      <th>0</th>\n",
       "      <td>58</td>\n",
       "      <td>1</td>\n",
       "      <td>0</td>\n",
       "      <td>1</td>\n",
       "      <td>0</td>\n",
       "      <td>2143</td>\n",
       "      <td>1</td>\n",
       "      <td>0</td>\n",
       "      <td>-1</td>\n",
       "      <td>5</td>\n",
       "      <td>5</td>\n",
       "      <td>261</td>\n",
       "      <td>1</td>\n",
       "      <td>-1</td>\n",
       "      <td>0</td>\n",
       "      <td>-1</td>\n",
       "      <td>0</td>\n",
       "    </tr>\n",
       "    <tr>\n",
       "      <th>1</th>\n",
       "      <td>44</td>\n",
       "      <td>2</td>\n",
       "      <td>1</td>\n",
       "      <td>2</td>\n",
       "      <td>0</td>\n",
       "      <td>29</td>\n",
       "      <td>1</td>\n",
       "      <td>0</td>\n",
       "      <td>-1</td>\n",
       "      <td>5</td>\n",
       "      <td>5</td>\n",
       "      <td>151</td>\n",
       "      <td>1</td>\n",
       "      <td>-1</td>\n",
       "      <td>0</td>\n",
       "      <td>-1</td>\n",
       "      <td>0</td>\n",
       "    </tr>\n",
       "    <tr>\n",
       "      <th>2</th>\n",
       "      <td>33</td>\n",
       "      <td>3</td>\n",
       "      <td>0</td>\n",
       "      <td>2</td>\n",
       "      <td>0</td>\n",
       "      <td>2</td>\n",
       "      <td>1</td>\n",
       "      <td>1</td>\n",
       "      <td>-1</td>\n",
       "      <td>5</td>\n",
       "      <td>5</td>\n",
       "      <td>76</td>\n",
       "      <td>1</td>\n",
       "      <td>-1</td>\n",
       "      <td>0</td>\n",
       "      <td>-1</td>\n",
       "      <td>0</td>\n",
       "    </tr>\n",
       "    <tr>\n",
       "      <th>3</th>\n",
       "      <td>47</td>\n",
       "      <td>4</td>\n",
       "      <td>0</td>\n",
       "      <td>-1</td>\n",
       "      <td>0</td>\n",
       "      <td>1506</td>\n",
       "      <td>1</td>\n",
       "      <td>0</td>\n",
       "      <td>-1</td>\n",
       "      <td>5</td>\n",
       "      <td>5</td>\n",
       "      <td>92</td>\n",
       "      <td>1</td>\n",
       "      <td>-1</td>\n",
       "      <td>0</td>\n",
       "      <td>-1</td>\n",
       "      <td>0</td>\n",
       "    </tr>\n",
       "    <tr>\n",
       "      <th>4</th>\n",
       "      <td>33</td>\n",
       "      <td>-1</td>\n",
       "      <td>1</td>\n",
       "      <td>-1</td>\n",
       "      <td>0</td>\n",
       "      <td>1</td>\n",
       "      <td>0</td>\n",
       "      <td>0</td>\n",
       "      <td>-1</td>\n",
       "      <td>5</td>\n",
       "      <td>5</td>\n",
       "      <td>198</td>\n",
       "      <td>1</td>\n",
       "      <td>-1</td>\n",
       "      <td>0</td>\n",
       "      <td>-1</td>\n",
       "      <td>0</td>\n",
       "    </tr>\n",
       "  </tbody>\n",
       "</table>\n",
       "</div>"
      ],
      "text/plain": [
       "   age  job  marital  education  default  balance  housing  loan  contact  \\\n",
       "0   58    1        0          1        0     2143        1     0       -1   \n",
       "1   44    2        1          2        0       29        1     0       -1   \n",
       "2   33    3        0          2        0        2        1     1       -1   \n",
       "3   47    4        0         -1        0     1506        1     0       -1   \n",
       "4   33   -1        1         -1        0        1        0     0       -1   \n",
       "\n",
       "   day  month  duration  campaign  pdays  previous  poutcome  Target  \n",
       "0    5      5       261         1     -1         0        -1       0  \n",
       "1    5      5       151         1     -1         0        -1       0  \n",
       "2    5      5        76         1     -1         0        -1       0  \n",
       "3    5      5        92         1     -1         0        -1       0  \n",
       "4    5      5       198         1     -1         0        -1       0  "
      ]
     },
     "execution_count": 96,
     "metadata": {},
     "output_type": "execute_result"
    }
   ],
   "source": [
    "df2.head()"
   ]
  },
  {
   "cell_type": "code",
   "execution_count": 97,
   "id": "02e355b7",
   "metadata": {},
   "outputs": [
    {
     "data": {
      "text/plain": [
       "(45211, 17)"
      ]
     },
     "execution_count": 97,
     "metadata": {},
     "output_type": "execute_result"
    }
   ],
   "source": [
    "df2.shape"
   ]
  },
  {
   "cell_type": "code",
   "execution_count": 98,
   "id": "9fdf9a2d",
   "metadata": {},
   "outputs": [
    {
     "data": {
      "text/plain": [
       "Target  default\n",
       "0       0          39159\n",
       "        1            763\n",
       "1       0           5237\n",
       "        1             52\n",
       "dtype: int64"
      ]
     },
     "execution_count": 98,
     "metadata": {},
     "output_type": "execute_result"
    }
   ],
   "source": [
    "# default features does not play an imp role\n",
    "df2.groupby(['Target','default']).size()"
   ]
  },
  {
   "cell_type": "code",
   "execution_count": 99,
   "id": "34cdefc0",
   "metadata": {},
   "outputs": [],
   "source": [
    "df2.drop(['default'],axis=1,inplace=True)"
   ]
  },
  {
   "cell_type": "code",
   "execution_count": 100,
   "id": "c643ab62",
   "metadata": {},
   "outputs": [
    {
     "data": {
      "text/plain": [
       "Target  pdays\n",
       "0       -1       33570\n",
       "         1           9\n",
       "         2          35\n",
       "         3           1\n",
       "         4           1\n",
       "                 ...  \n",
       "1        804         1\n",
       "         805         1\n",
       "         828         1\n",
       "         842         1\n",
       "         854         1\n",
       "Length: 914, dtype: int64"
      ]
     },
     "execution_count": 100,
     "metadata": {},
     "output_type": "execute_result"
    }
   ],
   "source": [
    "df2.groupby(['Target','pdays']).size() # pdays have -1  it does not have an significant meaning "
   ]
  },
  {
   "cell_type": "code",
   "execution_count": 101,
   "id": "e723eca0",
   "metadata": {},
   "outputs": [],
   "source": [
    "# drop pdays as it has -1 value for around 40%\n",
    "df2.drop(['pdays'],axis=1,inplace=True)"
   ]
  },
  {
   "cell_type": "markdown",
   "id": "1f967415",
   "metadata": {},
   "source": [
    "### Handling Outliers"
   ]
  },
  {
   "cell_type": "code",
   "execution_count": 102,
   "id": "659bbc17",
   "metadata": {},
   "outputs": [
    {
     "data": {
      "text/plain": [
       "Text(0.5, 1.0, 'Boxplot for age')"
      ]
     },
     "execution_count": 102,
     "metadata": {},
     "output_type": "execute_result"
    },
    {
     "data": {
      "image/png": "[encoded data removed]",
      "text/plain": [
       "<Figure size 640x480 with 1 Axes>"
      ]
     },
     "metadata": {},
     "output_type": "display_data"
    }
   ],
   "source": [
    "plt.boxplot(df1['age'])\n",
    "plt.title('Boxplot for age')"
   ]
  },
  {
   "cell_type": "code",
   "execution_count": 103,
   "id": "c661a470",
   "metadata": {},
   "outputs": [
    {
     "data": {
      "text/plain": [
       "age\n",
       "18     12\n",
       "19     35\n",
       "20     50\n",
       "21     79\n",
       "22    129\n",
       "     ... \n",
       "90      2\n",
       "92      2\n",
       "93      2\n",
       "94      1\n",
       "95      2\n",
       "Name: age, Length: 77, dtype: int64"
      ]
     },
     "execution_count": 103,
     "metadata": {},
     "output_type": "execute_result"
    }
   ],
   "source": [
    "df2.groupby('age',sort=True)['age'].count()\n",
    "#these can be ignored and values lies in between 18 to 95"
   ]
  },
  {
   "cell_type": "code",
   "execution_count": 104,
   "id": "5a16853f",
   "metadata": {},
   "outputs": [
    {
     "data": {
      "text/plain": [
       "Target  balance\n",
       "0       -8019      1\n",
       "        -6847      1\n",
       "        -4057      1\n",
       "        -3372      1\n",
       "        -3313      1\n",
       "                  ..\n",
       "1        34646     1\n",
       "         36252     1\n",
       "         45248     1\n",
       "         52587     2\n",
       "         81204     2\n",
       "Name: balance, Length: 9258, dtype: int64"
      ]
     },
     "execution_count": 104,
     "metadata": {},
     "output_type": "execute_result"
    }
   ],
   "source": [
    "# remove outliers in feature balance\n",
    "df2.groupby(['Target','balance'],sort=True)['balance'].count()\n",
    "#  these outlier should  not be remove as balance goes high, Client shows intrest on deposit"
   ]
  },
  {
   "cell_type": "code",
   "execution_count": 105,
   "id": "0031fcd8",
   "metadata": {},
   "outputs": [
    {
     "data": {
      "text/plain": [
       "Target  duration\n",
       "0       0            3\n",
       "        1            2\n",
       "        2            3\n",
       "        3            4\n",
       "        4           15\n",
       "                    ..\n",
       "1       3094         1\n",
       "        3102         1\n",
       "        3183         1\n",
       "        3253         1\n",
       "        3881         1\n",
       "Name: duration, Length: 2627, dtype: int64"
      ]
     },
     "execution_count": 105,
     "metadata": {},
     "output_type": "execute_result"
    }
   ],
   "source": [
    "# remove outliers in feature duration\n",
    "df2.groupby(['Target','duration'],sort=True)['duration'].count()\n",
    "#  these outlier should  not be remove as duration goes high, Client shows intrest on deposit"
   ]
  },
  {
   "cell_type": "code",
   "execution_count": 106,
   "id": "8cdffaf1",
   "metadata": {},
   "outputs": [
    {
     "data": {
      "text/plain": [
       "Target  campaign\n",
       "0       1           14983\n",
       "        2           11104\n",
       "        3            4903\n",
       "        4            3205\n",
       "        5            1625\n",
       "                    ...  \n",
       "1       20              1\n",
       "        21              1\n",
       "        24              1\n",
       "        29              1\n",
       "        32              1\n",
       "Name: campaign, Length: 70, dtype: int64"
      ]
     },
     "execution_count": 106,
     "metadata": {},
     "output_type": "execute_result"
    }
   ],
   "source": [
    "# remove outliers in feature duration\n",
    "df2.groupby(['Target','campaign'],sort=True)['campaign'].count()"
   ]
  },
  {
   "cell_type": "code",
   "execution_count": 107,
   "id": "2b295502",
   "metadata": {},
   "outputs": [
    {
     "data": {
      "text/plain": [
       "Text(0.5, 1.0, 'Boxplot for campaign ')"
      ]
     },
     "execution_count": 107,
     "metadata": {},
     "output_type": "execute_result"
    },
    {
     "data": {
      "image/png": "[encoded data removed]",
      "text/plain": [
       "<Figure size 640x480 with 1 Axes>"
      ]
     },
     "metadata": {},
     "output_type": "display_data"
    }
   ],
   "source": [
    "plt.boxplot(df2['campaign'])\n",
    "plt.title('Boxplot for campaign ')"
   ]
  },
  {
   "cell_type": "code",
   "execution_count": 108,
   "id": "b1b104a8",
   "metadata": {},
   "outputs": [],
   "source": [
    "Q1=np.percentile(df2['campaign'],25)"
   ]
  },
  {
   "cell_type": "code",
   "execution_count": 109,
   "id": "674a8f52",
   "metadata": {},
   "outputs": [],
   "source": [
    "Q2=np.percentile(df2['campaign'],50)"
   ]
  },
  {
   "cell_type": "code",
   "execution_count": 110,
   "id": "a9ea5806",
   "metadata": {},
   "outputs": [],
   "source": [
    "Q3=np.percentile(df2['campaign'],75)"
   ]
  },
  {
   "cell_type": "code",
   "execution_count": 111,
   "id": "de02f01c",
   "metadata": {},
   "outputs": [],
   "source": [
    "IQR=Q3-Q1"
   ]
  },
  {
   "cell_type": "code",
   "execution_count": 112,
   "id": "9d014642",
   "metadata": {},
   "outputs": [
    {
     "data": {
      "text/plain": [
       "2.0"
      ]
     },
     "execution_count": 112,
     "metadata": {},
     "output_type": "execute_result"
    }
   ],
   "source": [
    "IQR"
   ]
  },
  {
   "cell_type": "code",
   "execution_count": 113,
   "id": "63b449d0",
   "metadata": {},
   "outputs": [],
   "source": [
    "lower_limit=Q1-1.5*IQR\n",
    "upper_limit=Q3+1.5*IQR"
   ]
  },
  {
   "cell_type": "code",
   "execution_count": 114,
   "id": "bc58395c",
   "metadata": {},
   "outputs": [
    {
     "data": {
      "text/plain": [
       "-2.0"
      ]
     },
     "execution_count": 114,
     "metadata": {},
     "output_type": "execute_result"
    }
   ],
   "source": [
    "lower_limit"
   ]
  },
  {
   "cell_type": "code",
   "execution_count": 115,
   "id": "f2d858f4",
   "metadata": {},
   "outputs": [
    {
     "data": {
      "text/plain": [
       "6.0"
      ]
     },
     "execution_count": 115,
     "metadata": {},
     "output_type": "execute_result"
    }
   ],
   "source": [
    "upper_limit"
   ]
  },
  {
   "cell_type": "code",
   "execution_count": 116,
   "id": "fe8e383c",
   "metadata": {},
   "outputs": [],
   "source": [
    "outlier=[]\n",
    "for x in df2['campaign']:\n",
    "    if ((x>upper_limit)or (x<lower_limit)):\n",
    "        outlier.append(x)"
   ]
  },
  {
   "cell_type": "code",
   "execution_count": 117,
   "id": "697b50e1",
   "metadata": {},
   "outputs": [
    {
     "data": {
      "text/plain": [
       "[7,\n",
       " 8,\n",
       " 7,\n",
       " 8,\n",
       " 7,\n",
       " 8,\n",
       " 7,\n",
       " 7,\n",
       " 9,\n",
       " 9,\n",
       " 8,\n",
       " 8,\n",
       " 7,\n",
       " 9,\n",
       " 7,\n",
       " 9,\n",
       " 7,\n",
       " 7,\n",
       " 8,\n",
       " 9,\n",
       " 7,\n",
       " 8,\n",
       " 7,\n",
       " 7,\n",
       " 8,\n",
       " 8,\n",
       " 10,\n",
       " 11,\n",
       " 8,\n",
       " 7,\n",
       " 8,\n",
       " 7,\n",
       " 7,\n",
       " 7,\n",
       " 9,\n",
       " 8,\n",
       " 12,\n",
       " 9,\n",
       " 9,\n",
       " 8,\n",
       " 10,\n",
       " 13,\n",
       " 11,\n",
       " 11,\n",
       " 7,\n",
       " 12,\n",
       " 9,\n",
       " 7,\n",
       " 19,\n",
       " 9,\n",
       " 7,\n",
       " 10,\n",
       " 11,\n",
       " 8,\n",
       " 9,\n",
       " 8,\n",
       " 9,\n",
       " 8,\n",
       " 14,\n",
       " 10,\n",
       " 8,\n",
       " 7,\n",
       " 8,\n",
       " 14,\n",
       " 10,\n",
       " 24,\n",
       " 11,\n",
       " 7,\n",
       " 7,\n",
       " 16,\n",
       " 9,\n",
       " 14,\n",
       " 11,\n",
       " 8,\n",
       " 8,\n",
       " 10,\n",
       " 32,\n",
       " 18,\n",
       " 7,\n",
       " 7,\n",
       " 7,\n",
       " 10,\n",
       " 9,\n",
       " 9,\n",
       " 22,\n",
       " 32,\n",
       " 10,\n",
       " 9,\n",
       " 11,\n",
       " 7,\n",
       " 7,\n",
       " 32,\n",
       " 7,\n",
       " 8,\n",
       " 9,\n",
       " 8,\n",
       " 10,\n",
       " 7,\n",
       " 13,\n",
       " 7,\n",
       " 9,\n",
       " 7,\n",
       " 11,\n",
       " 9,\n",
       " 18,\n",
       " 12,\n",
       " 8,\n",
       " 12,\n",
       " 7,\n",
       " 7,\n",
       " 12,\n",
       " 7,\n",
       " 13,\n",
       " 22,\n",
       " 15,\n",
       " 11,\n",
       " 7,\n",
       " 10,\n",
       " 17,\n",
       " 8,\n",
       " 13,\n",
       " 16,\n",
       " 11,\n",
       " 7,\n",
       " 25,\n",
       " 18,\n",
       " 8,\n",
       " 15,\n",
       " 9,\n",
       " 21,\n",
       " 17,\n",
       " 11,\n",
       " 17,\n",
       " 8,\n",
       " 19,\n",
       " 9,\n",
       " 10,\n",
       " 19,\n",
       " 7,\n",
       " 25,\n",
       " 32,\n",
       " 7,\n",
       " 7,\n",
       " 7,\n",
       " 19,\n",
       " 7,\n",
       " 7,\n",
       " 12,\n",
       " 11,\n",
       " 12,\n",
       " 14,\n",
       " 7,\n",
       " 43,\n",
       " 9,\n",
       " 11,\n",
       " 51,\n",
       " 13,\n",
       " 9,\n",
       " 7,\n",
       " 13,\n",
       " 63,\n",
       " 10,\n",
       " 41,\n",
       " 26,\n",
       " 7,\n",
       " 7,\n",
       " 8,\n",
       " 10,\n",
       " 9,\n",
       " 9,\n",
       " 9,\n",
       " 7,\n",
       " 11,\n",
       " 8,\n",
       " 14,\n",
       " 11,\n",
       " 7,\n",
       " 10,\n",
       " 9,\n",
       " 9,\n",
       " 15,\n",
       " 10,\n",
       " 11,\n",
       " 14,\n",
       " 12,\n",
       " 15,\n",
       " 12,\n",
       " 10,\n",
       " 7,\n",
       " 9,\n",
       " 8,\n",
       " 11,\n",
       " 9,\n",
       " 26,\n",
       " 8,\n",
       " 14,\n",
       " 11,\n",
       " 8,\n",
       " 8,\n",
       " 10,\n",
       " 12,\n",
       " 13,\n",
       " 8,\n",
       " 7,\n",
       " 12,\n",
       " 7,\n",
       " 10,\n",
       " 7,\n",
       " 13,\n",
       " 8,\n",
       " 10,\n",
       " 28,\n",
       " 11,\n",
       " 10,\n",
       " 11,\n",
       " 7,\n",
       " 8,\n",
       " 12,\n",
       " 7,\n",
       " 13,\n",
       " 12,\n",
       " 12,\n",
       " 55,\n",
       " 11,\n",
       " 14,\n",
       " 16,\n",
       " 10,\n",
       " 13,\n",
       " 15,\n",
       " 9,\n",
       " 8,\n",
       " 10,\n",
       " 12,\n",
       " 7,\n",
       " 8,\n",
       " 10,\n",
       " 10,\n",
       " 8,\n",
       " 10,\n",
       " 14,\n",
       " 9,\n",
       " 8,\n",
       " 10,\n",
       " 14,\n",
       " 18,\n",
       " 13,\n",
       " 50,\n",
       " 17,\n",
       " 7,\n",
       " 14,\n",
       " 9,\n",
       " 14,\n",
       " 13,\n",
       " 9,\n",
       " 16,\n",
       " 13,\n",
       " 8,\n",
       " 11,\n",
       " 9,\n",
       " 7,\n",
       " 17,\n",
       " 7,\n",
       " 9,\n",
       " 17,\n",
       " 11,\n",
       " 38,\n",
       " 12,\n",
       " 8,\n",
       " 11,\n",
       " 9,\n",
       " 14,\n",
       " 7,\n",
       " 14,\n",
       " 7,\n",
       " 11,\n",
       " 11,\n",
       " 7,\n",
       " 7,\n",
       " 10,\n",
       " 7,\n",
       " 11,\n",
       " 7,\n",
       " 23,\n",
       " 8,\n",
       " 20,\n",
       " 7,\n",
       " 16,\n",
       " 7,\n",
       " 7,\n",
       " 11,\n",
       " 9,\n",
       " 11,\n",
       " 10,\n",
       " 7,\n",
       " 16,\n",
       " 10,\n",
       " 9,\n",
       " 13,\n",
       " 9,\n",
       " 8,\n",
       " 8,\n",
       " 11,\n",
       " 11,\n",
       " 10,\n",
       " 10,\n",
       " 13,\n",
       " 7,\n",
       " 9,\n",
       " 9,\n",
       " 7,\n",
       " 8,\n",
       " 16,\n",
       " 8,\n",
       " 7,\n",
       " 8,\n",
       " 8,\n",
       " 13,\n",
       " 9,\n",
       " 7,\n",
       " 8,\n",
       " 8,\n",
       " 7,\n",
       " 10,\n",
       " 24,\n",
       " 18,\n",
       " 11,\n",
       " 7,\n",
       " 18,\n",
       " 9,\n",
       " 7,\n",
       " 9,\n",
       " 8,\n",
       " 16,\n",
       " 10,\n",
       " 7,\n",
       " 7,\n",
       " 14,\n",
       " 10,\n",
       " 11,\n",
       " 7,\n",
       " 8,\n",
       " 12,\n",
       " 17,\n",
       " 8,\n",
       " 9,\n",
       " 8,\n",
       " 7,\n",
       " 7,\n",
       " 8,\n",
       " 7,\n",
       " 10,\n",
       " 7,\n",
       " 9,\n",
       " 10,\n",
       " 10,\n",
       " 13,\n",
       " 7,\n",
       " 15,\n",
       " 12,\n",
       " 9,\n",
       " 16,\n",
       " 22,\n",
       " 7,\n",
       " 24,\n",
       " 9,\n",
       " 22,\n",
       " 7,\n",
       " 23,\n",
       " 15,\n",
       " 7,\n",
       " 15,\n",
       " 7,\n",
       " 8,\n",
       " 7,\n",
       " 12,\n",
       " 9,\n",
       " 7,\n",
       " 9,\n",
       " 7,\n",
       " 17,\n",
       " 12,\n",
       " 14,\n",
       " 8,\n",
       " 9,\n",
       " 10,\n",
       " 15,\n",
       " 7,\n",
       " 9,\n",
       " 7,\n",
       " 14,\n",
       " 9,\n",
       " 18,\n",
       " 7,\n",
       " 12,\n",
       " 9,\n",
       " 7,\n",
       " 8,\n",
       " 11,\n",
       " 16,\n",
       " 8,\n",
       " 10,\n",
       " 18,\n",
       " 9,\n",
       " 7,\n",
       " 25,\n",
       " 12,\n",
       " 9,\n",
       " 12,\n",
       " 7,\n",
       " 8,\n",
       " 16,\n",
       " 9,\n",
       " 19,\n",
       " 8,\n",
       " 7,\n",
       " 9,\n",
       " 9,\n",
       " 7,\n",
       " 8,\n",
       " 13,\n",
       " 21,\n",
       " 12,\n",
       " 8,\n",
       " 11,\n",
       " 8,\n",
       " 7,\n",
       " 8,\n",
       " 9,\n",
       " 7,\n",
       " 9,\n",
       " 8,\n",
       " 32,\n",
       " 10,\n",
       " 8,\n",
       " 21,\n",
       " 8,\n",
       " 8,\n",
       " 15,\n",
       " 7,\n",
       " 25,\n",
       " 16,\n",
       " 8,\n",
       " 11,\n",
       " 8,\n",
       " 8,\n",
       " 7,\n",
       " 13,\n",
       " 9,\n",
       " 7,\n",
       " 15,\n",
       " 9,\n",
       " 8,\n",
       " 16,\n",
       " 14,\n",
       " 7,\n",
       " 10,\n",
       " 10,\n",
       " 8,\n",
       " 7,\n",
       " 13,\n",
       " 13,\n",
       " 13,\n",
       " 7,\n",
       " 26,\n",
       " 15,\n",
       " 12,\n",
       " 28,\n",
       " 32,\n",
       " 12,\n",
       " 7,\n",
       " 7,\n",
       " 18,\n",
       " 7,\n",
       " 10,\n",
       " 9,\n",
       " 13,\n",
       " 7,\n",
       " 21,\n",
       " 9,\n",
       " 18,\n",
       " 7,\n",
       " 9,\n",
       " 7,\n",
       " 10,\n",
       " 12,\n",
       " 8,\n",
       " 8,\n",
       " 8,\n",
       " 8,\n",
       " 7,\n",
       " 21,\n",
       " 7,\n",
       " 9,\n",
       " 9,\n",
       " 20,\n",
       " 14,\n",
       " 11,\n",
       " 19,\n",
       " 7,\n",
       " 16,\n",
       " 7,\n",
       " 11,\n",
       " 14,\n",
       " 17,\n",
       " 8,\n",
       " 15,\n",
       " 7,\n",
       " 8,\n",
       " 10,\n",
       " 11,\n",
       " 8,\n",
       " 8,\n",
       " 7,\n",
       " 11,\n",
       " 11,\n",
       " 7,\n",
       " 10,\n",
       " 11,\n",
       " 9,\n",
       " 13,\n",
       " 16,\n",
       " 15,\n",
       " 10,\n",
       " 10,\n",
       " 11,\n",
       " 11,\n",
       " 15,\n",
       " 8,\n",
       " 10,\n",
       " 7,\n",
       " 13,\n",
       " 24,\n",
       " 11,\n",
       " 15,\n",
       " 29,\n",
       " 7,\n",
       " 17,\n",
       " 16,\n",
       " 8,\n",
       " 13,\n",
       " 26,\n",
       " 26,\n",
       " 10,\n",
       " 31,\n",
       " 12,\n",
       " 7,\n",
       " 11,\n",
       " 15,\n",
       " 11,\n",
       " 9,\n",
       " 18,\n",
       " 16,\n",
       " 13,\n",
       " 13,\n",
       " 11,\n",
       " 13,\n",
       " 8,\n",
       " 7,\n",
       " 8,\n",
       " 24,\n",
       " 24,\n",
       " 7,\n",
       " 7,\n",
       " 13,\n",
       " 10,\n",
       " 7,\n",
       " 8,\n",
       " 9,\n",
       " 18,\n",
       " 12,\n",
       " 18,\n",
       " 7,\n",
       " 10,\n",
       " 13,\n",
       " 10,\n",
       " 9,\n",
       " 17,\n",
       " 7,\n",
       " 17,\n",
       " 37,\n",
       " 17,\n",
       " 8,\n",
       " 12,\n",
       " 26,\n",
       " 10,\n",
       " 10,\n",
       " 7,\n",
       " 12,\n",
       " 9,\n",
       " 8,\n",
       " 10,\n",
       " 8,\n",
       " 9,\n",
       " 16,\n",
       " 7,\n",
       " 10,\n",
       " 9,\n",
       " 7,\n",
       " 17,\n",
       " 7,\n",
       " 9,\n",
       " 9,\n",
       " 8,\n",
       " 9,\n",
       " 11,\n",
       " 7,\n",
       " 13,\n",
       " 10,\n",
       " 10,\n",
       " 17,\n",
       " 10,\n",
       " 8,\n",
       " 29,\n",
       " 19,\n",
       " 10,\n",
       " 14,\n",
       " 8,\n",
       " 12,\n",
       " 16,\n",
       " 8,\n",
       " 12,\n",
       " 17,\n",
       " 7,\n",
       " 7,\n",
       " 8,\n",
       " 8,\n",
       " 8,\n",
       " 21,\n",
       " 29,\n",
       " 15,\n",
       " 11,\n",
       " 8,\n",
       " 8,\n",
       " 9,\n",
       " 7,\n",
       " 7,\n",
       " 15,\n",
       " 10,\n",
       " 17,\n",
       " 8,\n",
       " 8,\n",
       " 19,\n",
       " 25,\n",
       " 12,\n",
       " 8,\n",
       " 7,\n",
       " 21,\n",
       " 15,\n",
       " 14,\n",
       " 30,\n",
       " 46,\n",
       " 21,\n",
       " 7,\n",
       " 25,\n",
       " 18,\n",
       " 20,\n",
       " 18,\n",
       " 12,\n",
       " 8,\n",
       " 16,\n",
       " 10,\n",
       " 8,\n",
       " 13,\n",
       " 8,\n",
       " 8,\n",
       " 8,\n",
       " 23,\n",
       " 9,\n",
       " 15,\n",
       " 9,\n",
       " 17,\n",
       " 8,\n",
       " 9,\n",
       " 7,\n",
       " 27,\n",
       " 7,\n",
       " 16,\n",
       " 9,\n",
       " 21,\n",
       " 7,\n",
       " 7,\n",
       " 11,\n",
       " 7,\n",
       " 7,\n",
       " 8,\n",
       " 9,\n",
       " 7,\n",
       " 10,\n",
       " 7,\n",
       " 8,\n",
       " 10,\n",
       " 8,\n",
       " 7,\n",
       " 7,\n",
       " 29,\n",
       " 9,\n",
       " 12,\n",
       " 11,\n",
       " 20,\n",
       " 7,\n",
       " 7,\n",
       " 30,\n",
       " 14,\n",
       " 9,\n",
       " 12,\n",
       " 23,\n",
       " 13,\n",
       " 10,\n",
       " 41,\n",
       " 13,\n",
       " 8,\n",
       " 9,\n",
       " 8,\n",
       " 14,\n",
       " 20,\n",
       " 8,\n",
       " 11,\n",
       " 11,\n",
       " 13,\n",
       " 14,\n",
       " 7,\n",
       " 9,\n",
       " 31,\n",
       " 7,\n",
       " 12,\n",
       " 10,\n",
       " 7,\n",
       " 14,\n",
       " 9,\n",
       " 16,\n",
       " 7,\n",
       " 7,\n",
       " 10,\n",
       " 18,\n",
       " 25,\n",
       " 7,\n",
       " 7,\n",
       " 28,\n",
       " 9,\n",
       " 11,\n",
       " 15,\n",
       " 11,\n",
       " 8,\n",
       " 12,\n",
       " 10,\n",
       " 7,\n",
       " 28,\n",
       " 10,\n",
       " 24,\n",
       " 11,\n",
       " 19,\n",
       " 7,\n",
       " 18,\n",
       " 22,\n",
       " 20,\n",
       " 8,\n",
       " 12,\n",
       " 17,\n",
       " 8,\n",
       " 7,\n",
       " 25,\n",
       " 10,\n",
       " 12,\n",
       " 10,\n",
       " 7,\n",
       " 20,\n",
       " 37,\n",
       " 18,\n",
       " 9,\n",
       " 14,\n",
       " 10,\n",
       " 12,\n",
       " 13,\n",
       " 26,\n",
       " 18,\n",
       " 11,\n",
       " 58,\n",
       " 29,\n",
       " 14,\n",
       " 22,\n",
       " 27,\n",
       " 10,\n",
       " 25,\n",
       " 13,\n",
       " 11,\n",
       " 18,\n",
       " 13,\n",
       " 21,\n",
       " 14,\n",
       " 20,\n",
       " 12,\n",
       " 20,\n",
       " 9,\n",
       " 9,\n",
       " 10,\n",
       " 12,\n",
       " 22,\n",
       " 12,\n",
       " 8,\n",
       " 11,\n",
       " 8,\n",
       " 21,\n",
       " 16,\n",
       " 10,\n",
       " 7,\n",
       " 14,\n",
       " 19,\n",
       " 8,\n",
       " 29,\n",
       " 14,\n",
       " 10,\n",
       " 14,\n",
       " 15,\n",
       " 12,\n",
       " 7,\n",
       " 8,\n",
       " 12,\n",
       " 8,\n",
       " 7,\n",
       " 11,\n",
       " 12,\n",
       " 7,\n",
       " 13,\n",
       " 27,\n",
       " 31,\n",
       " 7,\n",
       " 10,\n",
       " 10,\n",
       " 10,\n",
       " 12,\n",
       " 7,\n",
       " 9,\n",
       " 10,\n",
       " 29,\n",
       " 14,\n",
       " 13,\n",
       " 8,\n",
       " 7,\n",
       " 7,\n",
       " 8,\n",
       " 12,\n",
       " 13,\n",
       " 10,\n",
       " 10,\n",
       " 7,\n",
       " 15,\n",
       " 8,\n",
       " 7,\n",
       " 12,\n",
       " 7,\n",
       " 18,\n",
       " 7,\n",
       " 9,\n",
       " 10,\n",
       " 9,\n",
       " 8,\n",
       " 7,\n",
       " 7,\n",
       " 33,\n",
       " 12,\n",
       " 7,\n",
       " 17,\n",
       " 25,\n",
       " 7,\n",
       " 11,\n",
       " 10,\n",
       " 7,\n",
       " 19,\n",
       " 11,\n",
       " 26,\n",
       " 12,\n",
       " 9,\n",
       " 7,\n",
       " 7,\n",
       " 16,\n",
       " 8,\n",
       " 18,\n",
       " 20,\n",
       " 16,\n",
       " 8,\n",
       " 19,\n",
       " 24,\n",
       " 23,\n",
       " 24,\n",
       " 13,\n",
       " 8,\n",
       " 28,\n",
       " 15,\n",
       " 8,\n",
       " 7,\n",
       " 11,\n",
       " 18,\n",
       " 11,\n",
       " 9,\n",
       " 8,\n",
       " 8,\n",
       " 7,\n",
       " 8,\n",
       " 8,\n",
       " 9,\n",
       " 9,\n",
       " 10,\n",
       " 11,\n",
       " 11,\n",
       " 19,\n",
       " 9,\n",
       " 9,\n",
       " 8,\n",
       " 8,\n",
       " 7,\n",
       " 14,\n",
       " 15,\n",
       " 11,\n",
       " 12,\n",
       " 7,\n",
       " 30,\n",
       " 33,\n",
       " 11,\n",
       " 8,\n",
       " 8,\n",
       " 7,\n",
       " 13,\n",
       " 20,\n",
       " 7,\n",
       " 8,\n",
       " 13,\n",
       " 10,\n",
       " 24,\n",
       " 11,\n",
       " 15,\n",
       " 17,\n",
       " 11,\n",
       " 7,\n",
       " 26,\n",
       " 7,\n",
       " 8,\n",
       " 12,\n",
       " 35,\n",
       " 9,\n",
       " 7,\n",
       " 7,\n",
       " 9,\n",
       " 8,\n",
       " 13,\n",
       " 10,\n",
       " 8,\n",
       " 7,\n",
       " 7,\n",
       " 8,\n",
       " 11,\n",
       " 16,\n",
       " 17,\n",
       " 20,\n",
       " 43,\n",
       " 12,\n",
       " 9,\n",
       " 7,\n",
       " 7,\n",
       " 17,\n",
       " 7,\n",
       " 9,\n",
       " 8,\n",
       " 7,\n",
       " 10,\n",
       " 7,\n",
       " 9,\n",
       " 20,\n",
       " 15,\n",
       " 10,\n",
       " 7,\n",
       " 14,\n",
       " 27,\n",
       " 7,\n",
       " 10,\n",
       " 10,\n",
       " 7,\n",
       " 8,\n",
       " 7,\n",
       " 12,\n",
       " 14,\n",
       " 12,\n",
       " 11,\n",
       " 8,\n",
       " 8,\n",
       " 8,\n",
       " 11,\n",
       " 13,\n",
       " 10,\n",
       " 7,\n",
       " 14,\n",
       " 19,\n",
       " 7,\n",
       " 10,\n",
       " 12,\n",
       " 7,\n",
       " 11,\n",
       " 8,\n",
       " 7,\n",
       " 14,\n",
       " 8,\n",
       " ...]"
      ]
     },
     "execution_count": 117,
     "metadata": {},
     "output_type": "execute_result"
    }
   ],
   "source": [
    "outlier"
   ]
  },
  {
   "cell_type": "code",
   "execution_count": 118,
   "id": "73639cea",
   "metadata": {},
   "outputs": [
    {
     "data": {
      "text/plain": [
       "Int64Index([  758,   780,   906,  1103,  1105,  1386,  1446,  1469,  1483,\n",
       "             1502,\n",
       "            ...\n",
       "            44371, 44378, 44582, 44583, 44594, 44666, 44680, 44770, 44886,\n",
       "            45056],\n",
       "           dtype='int64', length=3064)"
      ]
     },
     "execution_count": 118,
     "metadata": {},
     "output_type": "execute_result"
    }
   ],
   "source": [
    "# remove the outliers\n",
    "ind=df2['campaign']>upper_limit\n",
    "df2.loc[ind].index"
   ]
  },
  {
   "cell_type": "code",
   "execution_count": 119,
   "id": "4eb3bf5f",
   "metadata": {},
   "outputs": [],
   "source": [
    "df2.drop([ 1547,  1551,  1579,  1626,  1905,  1914,  1917,  2017,  2018,\n",
    "             2033,44109, 44115, 44116, 44180, 44206, 44231, 44232, 44288, 44337,\n",
    "            44345],inplace=True)"
   ]
  },
  {
   "cell_type": "code",
   "execution_count": 120,
   "id": "0269bdfa",
   "metadata": {},
   "outputs": [
    {
     "data": {
      "text/plain": [
       "(45191, 15)"
      ]
     },
     "execution_count": 120,
     "metadata": {},
     "output_type": "execute_result"
    }
   ],
   "source": [
    "df2.shape"
   ]
  },
  {
   "cell_type": "code",
   "execution_count": 121,
   "id": "533f3ca4",
   "metadata": {},
   "outputs": [
    {
     "data": {
      "text/plain": [
       "Text(0.5, 1.0, 'Boxplot for campaign ')"
      ]
     },
     "execution_count": 121,
     "metadata": {},
     "output_type": "execute_result"
    },
    {
     "data": {
      "image/png": "[encoded data removed]",
      "text/plain": [
       "<Figure size 640x480 with 1 Axes>"
      ]
     },
     "metadata": {},
     "output_type": "display_data"
    }
   ],
   "source": [
    "plt.boxplot(df2['campaign'])\n",
    "plt.title('Boxplot for campaign ')"
   ]
  },
  {
   "cell_type": "code",
   "execution_count": 122,
   "id": "b6439fe7",
   "metadata": {},
   "outputs": [
    {
     "data": {
      "text/plain": [
       "Text(0.5, 1.0, 'Boxplot for previous ')"
      ]
     },
     "execution_count": 122,
     "metadata": {},
     "output_type": "execute_result"
    },
    {
     "data": {
      "image/png": "[encoded data removed]",
      "text/plain": [
       "<Figure size 640x480 with 1 Axes>"
      ]
     },
     "metadata": {},
     "output_type": "display_data"
    }
   ],
   "source": [
    "plt.boxplot(df2['previous'])\n",
    "plt.title('Boxplot for previous ')"
   ]
  },
  {
   "cell_type": "code",
   "execution_count": 123,
   "id": "c0fa8330",
   "metadata": {},
   "outputs": [
    {
     "data": {
      "text/plain": [
       "Target  previous\n",
       "0       0           33558\n",
       "        1            2188\n",
       "        2            1649\n",
       "        3             848\n",
       "        4             542\n",
       "                    ...  \n",
       "1       26              1\n",
       "        29              1\n",
       "        30              1\n",
       "        55              1\n",
       "        58              1\n",
       "Name: previous, Length: 66, dtype: int64"
      ]
     },
     "execution_count": 123,
     "metadata": {},
     "output_type": "execute_result"
    }
   ],
   "source": [
    "# remove outliers in feature previous\n",
    "df2.groupby(['Target','previous'],sort=True)['previous'].count()"
   ]
  },
  {
   "cell_type": "code",
   "execution_count": 124,
   "id": "b1ef9dc4",
   "metadata": {},
   "outputs": [],
   "source": [
    "Q1=np.percentile(df2['previous'],25)"
   ]
  },
  {
   "cell_type": "code",
   "execution_count": 125,
   "id": "8161fdde",
   "metadata": {},
   "outputs": [],
   "source": [
    "Q2=np.percentile(df2['previous'],50)"
   ]
  },
  {
   "cell_type": "code",
   "execution_count": 126,
   "id": "8ebcbaa3",
   "metadata": {},
   "outputs": [],
   "source": [
    "Q3=np.percentile(df2['previous'],75)"
   ]
  },
  {
   "cell_type": "code",
   "execution_count": 127,
   "id": "faa30548",
   "metadata": {},
   "outputs": [],
   "source": [
    "IQR=Q3-Q1"
   ]
  },
  {
   "cell_type": "code",
   "execution_count": 128,
   "id": "d8da1d2a",
   "metadata": {},
   "outputs": [
    {
     "data": {
      "text/plain": [
       "0.0"
      ]
     },
     "execution_count": 128,
     "metadata": {},
     "output_type": "execute_result"
    }
   ],
   "source": [
    "IQR"
   ]
  },
  {
   "cell_type": "code",
   "execution_count": 129,
   "id": "b7faa794",
   "metadata": {},
   "outputs": [],
   "source": [
    "lower_limit=Q1-1.5*IQR\n",
    "upper_limit=Q3+1.5*IQR"
   ]
  },
  {
   "cell_type": "code",
   "execution_count": 130,
   "id": "9fdca4ba",
   "metadata": {},
   "outputs": [
    {
     "data": {
      "text/plain": [
       "0.0"
      ]
     },
     "execution_count": 130,
     "metadata": {},
     "output_type": "execute_result"
    }
   ],
   "source": [
    "lower_limit"
   ]
  },
  {
   "cell_type": "code",
   "execution_count": 131,
   "id": "894347e9",
   "metadata": {},
   "outputs": [
    {
     "data": {
      "text/plain": [
       "0.0"
      ]
     },
     "execution_count": 131,
     "metadata": {},
     "output_type": "execute_result"
    }
   ],
   "source": [
    "upper_limit"
   ]
  },
  {
   "cell_type": "markdown",
   "id": "257aaedf",
   "metadata": {},
   "source": [
    "### Scaling"
   ]
  },
  {
   "cell_type": "code",
   "execution_count": 132,
   "id": "7cc65b2d",
   "metadata": {},
   "outputs": [],
   "source": [
    "from imblearn.under_sampling import RandomUnderSampler\n",
    "X = df2.drop(['Target'], axis=1)\n",
    "y = df2['Target']"
   ]
  },
  {
   "cell_type": "code",
   "execution_count": 133,
   "id": "a0a23b0d",
   "metadata": {},
   "outputs": [],
   "source": [
    "from sklearn.model_selection import train_test_split\n",
    "  \n",
    "# split into 70:30 ration\n",
    "X_train1, X_test1, y_train1, y_test1 = train_test_split(X_sm, y_sm,test_size = 0.3, random_state = 0)"
   ]
  },
  {
   "cell_type": "markdown",
   "id": "ac0a2b7f",
   "metadata": {},
   "source": [
    "### MinMax Scaling"
   ]
  },
  {
   "cell_type": "code",
   "execution_count": 134,
   "id": "c6179ff1",
   "metadata": {},
   "outputs": [
    {
     "data": {
      "text/html": [
       "<div>\n",
       "<style scoped>\n",
       "    .dataframe tbody tr th:only-of-type {\n",
       "        vertical-align: middle;\n",
       "    }\n",
       "\n",
       "    .dataframe tbody tr th {\n",
       "        vertical-align: top;\n",
       "    }\n",
       "\n",
       "    .dataframe thead th {\n",
       "        text-align: right;\n",
       "    }\n",
       "</style>\n",
       "<table border=\"1\" class=\"dataframe\">\n",
       "  <thead>\n",
       "    <tr style=\"text-align: right;\">\n",
       "      <th></th>\n",
       "      <th>0</th>\n",
       "      <th>1</th>\n",
       "      <th>2</th>\n",
       "      <th>3</th>\n",
       "      <th>4</th>\n",
       "      <th>5</th>\n",
       "      <th>6</th>\n",
       "      <th>7</th>\n",
       "      <th>8</th>\n",
       "      <th>9</th>\n",
       "      <th>10</th>\n",
       "      <th>11</th>\n",
       "      <th>12</th>\n",
       "      <th>13</th>\n",
       "      <th>14</th>\n",
       "      <th>15</th>\n",
       "    </tr>\n",
       "  </thead>\n",
       "  <tbody>\n",
       "    <tr>\n",
       "      <th>count</th>\n",
       "      <td>55890.000000</td>\n",
       "      <td>55890.000000</td>\n",
       "      <td>55890.000000</td>\n",
       "      <td>55890.000000</td>\n",
       "      <td>55890.000000</td>\n",
       "      <td>55890.000000</td>\n",
       "      <td>55890.000000</td>\n",
       "      <td>55890.000000</td>\n",
       "      <td>55890.000000</td>\n",
       "      <td>55890.000000</td>\n",
       "      <td>55890.000000</td>\n",
       "      <td>55890.000000</td>\n",
       "      <td>55890.000000</td>\n",
       "      <td>55890.000000</td>\n",
       "      <td>55890.000000</td>\n",
       "      <td>55890.000000</td>\n",
       "    </tr>\n",
       "    <tr>\n",
       "      <th>mean</th>\n",
       "      <td>0.297723</td>\n",
       "      <td>0.415205</td>\n",
       "      <td>0.213589</td>\n",
       "      <td>0.638983</td>\n",
       "      <td>0.010932</td>\n",
       "      <td>0.089862</td>\n",
       "      <td>0.385901</td>\n",
       "      <td>0.097066</td>\n",
       "      <td>0.541379</td>\n",
       "      <td>0.475863</td>\n",
       "      <td>0.456857</td>\n",
       "      <td>0.096830</td>\n",
       "      <td>0.023816</td>\n",
       "      <td>0.059903</td>\n",
       "      <td>0.002755</td>\n",
       "      <td>0.177872</td>\n",
       "    </tr>\n",
       "    <tr>\n",
       "      <th>std</th>\n",
       "      <td>0.141929</td>\n",
       "      <td>0.215584</td>\n",
       "      <td>0.311600</td>\n",
       "      <td>0.200225</td>\n",
       "      <td>0.103985</td>\n",
       "      <td>0.029756</td>\n",
       "      <td>0.486812</td>\n",
       "      <td>0.296050</td>\n",
       "      <td>0.271639</td>\n",
       "      <td>0.260751</td>\n",
       "      <td>0.213467</td>\n",
       "      <td>0.089117</td>\n",
       "      <td>0.045550</td>\n",
       "      <td>0.122295</td>\n",
       "      <td>0.008359</td>\n",
       "      <td>0.315928</td>\n",
       "    </tr>\n",
       "    <tr>\n",
       "      <th>min</th>\n",
       "      <td>0.000000</td>\n",
       "      <td>0.000000</td>\n",
       "      <td>0.000000</td>\n",
       "      <td>0.000000</td>\n",
       "      <td>0.000000</td>\n",
       "      <td>0.000000</td>\n",
       "      <td>0.000000</td>\n",
       "      <td>0.000000</td>\n",
       "      <td>0.000000</td>\n",
       "      <td>0.000000</td>\n",
       "      <td>0.000000</td>\n",
       "      <td>0.000000</td>\n",
       "      <td>0.000000</td>\n",
       "      <td>0.000000</td>\n",
       "      <td>0.000000</td>\n",
       "      <td>0.000000</td>\n",
       "    </tr>\n",
       "    <tr>\n",
       "      <th>25%</th>\n",
       "      <td>0.181818</td>\n",
       "      <td>0.250000</td>\n",
       "      <td>0.000000</td>\n",
       "      <td>0.500000</td>\n",
       "      <td>0.000000</td>\n",
       "      <td>0.076515</td>\n",
       "      <td>0.000000</td>\n",
       "      <td>0.000000</td>\n",
       "      <td>0.666667</td>\n",
       "      <td>0.266667</td>\n",
       "      <td>0.363636</td>\n",
       "      <td>0.037104</td>\n",
       "      <td>0.000000</td>\n",
       "      <td>0.000000</td>\n",
       "      <td>0.000000</td>\n",
       "      <td>0.000000</td>\n",
       "    </tr>\n",
       "    <tr>\n",
       "      <th>50%</th>\n",
       "      <td>0.272727</td>\n",
       "      <td>0.416667</td>\n",
       "      <td>0.000000</td>\n",
       "      <td>0.750000</td>\n",
       "      <td>0.000000</td>\n",
       "      <td>0.080584</td>\n",
       "      <td>0.000000</td>\n",
       "      <td>0.000000</td>\n",
       "      <td>0.666667</td>\n",
       "      <td>0.466667</td>\n",
       "      <td>0.454545</td>\n",
       "      <td>0.066220</td>\n",
       "      <td>0.017544</td>\n",
       "      <td>0.000000</td>\n",
       "      <td>0.000000</td>\n",
       "      <td>0.000000</td>\n",
       "    </tr>\n",
       "    <tr>\n",
       "      <th>75%</th>\n",
       "      <td>0.389610</td>\n",
       "      <td>0.583333</td>\n",
       "      <td>0.500000</td>\n",
       "      <td>0.750000</td>\n",
       "      <td>0.000000</td>\n",
       "      <td>0.091670</td>\n",
       "      <td>1.000000</td>\n",
       "      <td>0.000000</td>\n",
       "      <td>0.666667</td>\n",
       "      <td>0.666667</td>\n",
       "      <td>0.545455</td>\n",
       "      <td>0.129606</td>\n",
       "      <td>0.035088</td>\n",
       "      <td>0.053899</td>\n",
       "      <td>0.003636</td>\n",
       "      <td>0.250000</td>\n",
       "    </tr>\n",
       "    <tr>\n",
       "      <th>max</th>\n",
       "      <td>1.000000</td>\n",
       "      <td>1.000000</td>\n",
       "      <td>1.000000</td>\n",
       "      <td>1.000000</td>\n",
       "      <td>1.000000</td>\n",
       "      <td>1.000000</td>\n",
       "      <td>1.000000</td>\n",
       "      <td>1.000000</td>\n",
       "      <td>1.000000</td>\n",
       "      <td>1.000000</td>\n",
       "      <td>1.000000</td>\n",
       "      <td>1.000000</td>\n",
       "      <td>1.000000</td>\n",
       "      <td>1.000000</td>\n",
       "      <td>1.000000</td>\n",
       "      <td>1.000000</td>\n",
       "    </tr>\n",
       "  </tbody>\n",
       "</table>\n",
       "</div>"
      ],
      "text/plain": [
       "                 0             1             2             3             4   \\\n",
       "count  55890.000000  55890.000000  55890.000000  55890.000000  55890.000000   \n",
       "mean       0.297723      0.415205      0.213589      0.638983      0.010932   \n",
       "std        0.141929      0.215584      0.311600      0.200225      0.103985   \n",
       "min        0.000000      0.000000      0.000000      0.000000      0.000000   \n",
       "25%        0.181818      0.250000      0.000000      0.500000      0.000000   \n",
       "50%        0.272727      0.416667      0.000000      0.750000      0.000000   \n",
       "75%        0.389610      0.583333      0.500000      0.750000      0.000000   \n",
       "max        1.000000      1.000000      1.000000      1.000000      1.000000   \n",
       "\n",
       "                 5             6             7             8             9   \\\n",
       "count  55890.000000  55890.000000  55890.000000  55890.000000  55890.000000   \n",
       "mean       0.089862      0.385901      0.097066      0.541379      0.475863   \n",
       "std        0.029756      0.486812      0.296050      0.271639      0.260751   \n",
       "min        0.000000      0.000000      0.000000      0.000000      0.000000   \n",
       "25%        0.076515      0.000000      0.000000      0.666667      0.266667   \n",
       "50%        0.080584      0.000000      0.000000      0.666667      0.466667   \n",
       "75%        0.091670      1.000000      0.000000      0.666667      0.666667   \n",
       "max        1.000000      1.000000      1.000000      1.000000      1.000000   \n",
       "\n",
       "                 10            11            12            13            14  \\\n",
       "count  55890.000000  55890.000000  55890.000000  55890.000000  55890.000000   \n",
       "mean       0.456857      0.096830      0.023816      0.059903      0.002755   \n",
       "std        0.213467      0.089117      0.045550      0.122295      0.008359   \n",
       "min        0.000000      0.000000      0.000000      0.000000      0.000000   \n",
       "25%        0.363636      0.037104      0.000000      0.000000      0.000000   \n",
       "50%        0.454545      0.066220      0.017544      0.000000      0.000000   \n",
       "75%        0.545455      0.129606      0.035088      0.053899      0.003636   \n",
       "max        1.000000      1.000000      1.000000      1.000000      1.000000   \n",
       "\n",
       "                 15  \n",
       "count  55890.000000  \n",
       "mean       0.177872  \n",
       "std        0.315928  \n",
       "min        0.000000  \n",
       "25%        0.000000  \n",
       "50%        0.000000  \n",
       "75%        0.250000  \n",
       "max        1.000000  "
      ]
     },
     "execution_count": 134,
     "metadata": {},
     "output_type": "execute_result"
    }
   ],
   "source": [
    "# define the pipeline\n",
    "from numpy import mean, std\n",
    "from sklearn.model_selection import RepeatedStratifiedKFold, cross_val_score\n",
    "from sklearn.neighbors import KNeighborsClassifier\n",
    "from sklearn.pipeline import Pipeline\n",
    "from sklearn.preprocessing import MinMaxScaler\n",
    "\n",
    "\n",
    "trans = MinMaxScaler()\n",
    "min_max = MinMaxScaler(feature_range= (0,1))\n",
    "X_train2 = min_max.fit_transform(X_train1)\n",
    "X_train2 = pd.DataFrame(X_train2)\n",
    "X_train2.describe()"
   ]
  },
  {
   "cell_type": "markdown",
   "id": "0fed5b18",
   "metadata": {},
   "source": [
    "### Standard Scaling"
   ]
  },
  {
   "cell_type": "code",
   "execution_count": 135,
   "id": "01fdfb1e",
   "metadata": {},
   "outputs": [
    {
     "data": {
      "text/html": [
       "<div>\n",
       "<style scoped>\n",
       "    .dataframe tbody tr th:only-of-type {\n",
       "        vertical-align: middle;\n",
       "    }\n",
       "\n",
       "    .dataframe tbody tr th {\n",
       "        vertical-align: top;\n",
       "    }\n",
       "\n",
       "    .dataframe thead th {\n",
       "        text-align: right;\n",
       "    }\n",
       "</style>\n",
       "<table border=\"1\" class=\"dataframe\">\n",
       "  <thead>\n",
       "    <tr style=\"text-align: right;\">\n",
       "      <th></th>\n",
       "      <th>0</th>\n",
       "      <th>1</th>\n",
       "      <th>2</th>\n",
       "      <th>3</th>\n",
       "      <th>4</th>\n",
       "      <th>5</th>\n",
       "      <th>6</th>\n",
       "      <th>7</th>\n",
       "      <th>8</th>\n",
       "      <th>9</th>\n",
       "      <th>10</th>\n",
       "      <th>11</th>\n",
       "      <th>12</th>\n",
       "      <th>13</th>\n",
       "      <th>14</th>\n",
       "      <th>15</th>\n",
       "    </tr>\n",
       "  </thead>\n",
       "  <tbody>\n",
       "    <tr>\n",
       "      <th>count</th>\n",
       "      <td>5.589000e+04</td>\n",
       "      <td>5.589000e+04</td>\n",
       "      <td>5.589000e+04</td>\n",
       "      <td>5.589000e+04</td>\n",
       "      <td>5.589000e+04</td>\n",
       "      <td>5.589000e+04</td>\n",
       "      <td>5.589000e+04</td>\n",
       "      <td>5.589000e+04</td>\n",
       "      <td>5.589000e+04</td>\n",
       "      <td>5.589000e+04</td>\n",
       "      <td>5.589000e+04</td>\n",
       "      <td>5.589000e+04</td>\n",
       "      <td>5.589000e+04</td>\n",
       "      <td>5.589000e+04</td>\n",
       "      <td>5.589000e+04</td>\n",
       "      <td>5.589000e+04</td>\n",
       "    </tr>\n",
       "    <tr>\n",
       "      <th>mean</th>\n",
       "      <td>5.414686e-16</td>\n",
       "      <td>2.529225e-16</td>\n",
       "      <td>-7.619122e-16</td>\n",
       "      <td>-9.201006e-16</td>\n",
       "      <td>-2.886344e-15</td>\n",
       "      <td>-9.197231e-19</td>\n",
       "      <td>2.273909e-15</td>\n",
       "      <td>-8.095232e-16</td>\n",
       "      <td>-7.396262e-16</td>\n",
       "      <td>7.849926e-18</td>\n",
       "      <td>-6.128415e-16</td>\n",
       "      <td>4.085319e-17</td>\n",
       "      <td>-2.806963e-16</td>\n",
       "      <td>-2.460440e-15</td>\n",
       "      <td>4.154546e-17</td>\n",
       "      <td>4.833691e-16</td>\n",
       "    </tr>\n",
       "    <tr>\n",
       "      <th>std</th>\n",
       "      <td>1.000009e+00</td>\n",
       "      <td>1.000009e+00</td>\n",
       "      <td>1.000009e+00</td>\n",
       "      <td>1.000009e+00</td>\n",
       "      <td>1.000009e+00</td>\n",
       "      <td>1.000009e+00</td>\n",
       "      <td>1.000009e+00</td>\n",
       "      <td>1.000009e+00</td>\n",
       "      <td>1.000009e+00</td>\n",
       "      <td>1.000009e+00</td>\n",
       "      <td>1.000009e+00</td>\n",
       "      <td>1.000009e+00</td>\n",
       "      <td>1.000009e+00</td>\n",
       "      <td>1.000009e+00</td>\n",
       "      <td>1.000009e+00</td>\n",
       "      <td>1.000009e+00</td>\n",
       "    </tr>\n",
       "    <tr>\n",
       "      <th>min</th>\n",
       "      <td>-2.097706e+00</td>\n",
       "      <td>-1.925970e+00</td>\n",
       "      <td>-6.854650e-01</td>\n",
       "      <td>-3.191345e+00</td>\n",
       "      <td>-1.051334e-01</td>\n",
       "      <td>-3.019948e+00</td>\n",
       "      <td>-7.927179e-01</td>\n",
       "      <td>-3.278723e-01</td>\n",
       "      <td>-1.993028e+00</td>\n",
       "      <td>-1.824989e+00</td>\n",
       "      <td>-2.140191e+00</td>\n",
       "      <td>-1.086559e+00</td>\n",
       "      <td>-5.228618e-01</td>\n",
       "      <td>-4.898278e-01</td>\n",
       "      <td>-3.296085e-01</td>\n",
       "      <td>-5.630192e-01</td>\n",
       "    </tr>\n",
       "    <tr>\n",
       "      <th>25%</th>\n",
       "      <td>-8.166470e-01</td>\n",
       "      <td>-7.663213e-01</td>\n",
       "      <td>-6.854650e-01</td>\n",
       "      <td>-6.941377e-01</td>\n",
       "      <td>-1.051334e-01</td>\n",
       "      <td>-4.485286e-01</td>\n",
       "      <td>-7.927179e-01</td>\n",
       "      <td>-3.278723e-01</td>\n",
       "      <td>4.612335e-01</td>\n",
       "      <td>-8.022926e-01</td>\n",
       "      <td>-4.367004e-01</td>\n",
       "      <td>-6.702031e-01</td>\n",
       "      <td>-5.228618e-01</td>\n",
       "      <td>-4.898278e-01</td>\n",
       "      <td>-3.296085e-01</td>\n",
       "      <td>-5.630192e-01</td>\n",
       "    </tr>\n",
       "    <tr>\n",
       "      <th>50%</th>\n",
       "      <td>-1.761174e-01</td>\n",
       "      <td>6.777932e-03</td>\n",
       "      <td>-6.854650e-01</td>\n",
       "      <td>5.544657e-01</td>\n",
       "      <td>-1.051334e-01</td>\n",
       "      <td>-3.118115e-01</td>\n",
       "      <td>-7.927179e-01</td>\n",
       "      <td>-3.278723e-01</td>\n",
       "      <td>4.612335e-01</td>\n",
       "      <td>-3.527013e-02</td>\n",
       "      <td>-1.082779e-02</td>\n",
       "      <td>-3.434797e-01</td>\n",
       "      <td>-1.376982e-01</td>\n",
       "      <td>-4.898278e-01</td>\n",
       "      <td>-3.296085e-01</td>\n",
       "      <td>-5.630192e-01</td>\n",
       "    </tr>\n",
       "    <tr>\n",
       "      <th>75%</th>\n",
       "      <td>6.474207e-01</td>\n",
       "      <td>7.798771e-01</td>\n",
       "      <td>9.191690e-01</td>\n",
       "      <td>5.544657e-01</td>\n",
       "      <td>-1.051334e-01</td>\n",
       "      <td>6.076648e-02</td>\n",
       "      <td>1.261483e+00</td>\n",
       "      <td>-3.278723e-01</td>\n",
       "      <td>4.612335e-01</td>\n",
       "      <td>7.317523e-01</td>\n",
       "      <td>4.150448e-01</td>\n",
       "      <td>3.677943e-01</td>\n",
       "      <td>2.474654e-01</td>\n",
       "      <td>-4.909271e-02</td>\n",
       "      <td>1.054429e-01</td>\n",
       "      <td>2.283084e-01</td>\n",
       "    </tr>\n",
       "    <tr>\n",
       "      <th>max</th>\n",
       "      <td>4.948119e+00</td>\n",
       "      <td>2.712625e+00</td>\n",
       "      <td>2.523803e+00</td>\n",
       "      <td>1.803069e+00</td>\n",
       "      <td>9.511729e+00</td>\n",
       "      <td>3.058658e+01</td>\n",
       "      <td>1.261483e+00</td>\n",
       "      <td>3.049968e+00</td>\n",
       "      <td>1.688364e+00</td>\n",
       "      <td>2.010123e+00</td>\n",
       "      <td>2.544408e+00</td>\n",
       "      <td>1.013480e+01</td>\n",
       "      <td>2.143146e+01</td>\n",
       "      <td>7.687215e+00</td>\n",
       "      <td>1.193095e+02</td>\n",
       "      <td>2.602291e+00</td>\n",
       "    </tr>\n",
       "  </tbody>\n",
       "</table>\n",
       "</div>"
      ],
      "text/plain": [
       "                 0             1             2             3             4   \\\n",
       "count  5.589000e+04  5.589000e+04  5.589000e+04  5.589000e+04  5.589000e+04   \n",
       "mean   5.414686e-16  2.529225e-16 -7.619122e-16 -9.201006e-16 -2.886344e-15   \n",
       "std    1.000009e+00  1.000009e+00  1.000009e+00  1.000009e+00  1.000009e+00   \n",
       "min   -2.097706e+00 -1.925970e+00 -6.854650e-01 -3.191345e+00 -1.051334e-01   \n",
       "25%   -8.166470e-01 -7.663213e-01 -6.854650e-01 -6.941377e-01 -1.051334e-01   \n",
       "50%   -1.761174e-01  6.777932e-03 -6.854650e-01  5.544657e-01 -1.051334e-01   \n",
       "75%    6.474207e-01  7.798771e-01  9.191690e-01  5.544657e-01 -1.051334e-01   \n",
       "max    4.948119e+00  2.712625e+00  2.523803e+00  1.803069e+00  9.511729e+00   \n",
       "\n",
       "                 5             6             7             8             9   \\\n",
       "count  5.589000e+04  5.589000e+04  5.589000e+04  5.589000e+04  5.589000e+04   \n",
       "mean  -9.197231e-19  2.273909e-15 -8.095232e-16 -7.396262e-16  7.849926e-18   \n",
       "std    1.000009e+00  1.000009e+00  1.000009e+00  1.000009e+00  1.000009e+00   \n",
       "min   -3.019948e+00 -7.927179e-01 -3.278723e-01 -1.993028e+00 -1.824989e+00   \n",
       "25%   -4.485286e-01 -7.927179e-01 -3.278723e-01  4.612335e-01 -8.022926e-01   \n",
       "50%   -3.118115e-01 -7.927179e-01 -3.278723e-01  4.612335e-01 -3.527013e-02   \n",
       "75%    6.076648e-02  1.261483e+00 -3.278723e-01  4.612335e-01  7.317523e-01   \n",
       "max    3.058658e+01  1.261483e+00  3.049968e+00  1.688364e+00  2.010123e+00   \n",
       "\n",
       "                 10            11            12            13            14  \\\n",
       "count  5.589000e+04  5.589000e+04  5.589000e+04  5.589000e+04  5.589000e+04   \n",
       "mean  -6.128415e-16  4.085319e-17 -2.806963e-16 -2.460440e-15  4.154546e-17   \n",
       "std    1.000009e+00  1.000009e+00  1.000009e+00  1.000009e+00  1.000009e+00   \n",
       "min   -2.140191e+00 -1.086559e+00 -5.228618e-01 -4.898278e-01 -3.296085e-01   \n",
       "25%   -4.367004e-01 -6.702031e-01 -5.228618e-01 -4.898278e-01 -3.296085e-01   \n",
       "50%   -1.082779e-02 -3.434797e-01 -1.376982e-01 -4.898278e-01 -3.296085e-01   \n",
       "75%    4.150448e-01  3.677943e-01  2.474654e-01 -4.909271e-02  1.054429e-01   \n",
       "max    2.544408e+00  1.013480e+01  2.143146e+01  7.687215e+00  1.193095e+02   \n",
       "\n",
       "                 15  \n",
       "count  5.589000e+04  \n",
       "mean   4.833691e-16  \n",
       "std    1.000009e+00  \n",
       "min   -5.630192e-01  \n",
       "25%   -5.630192e-01  \n",
       "50%   -5.630192e-01  \n",
       "75%    2.283084e-01  \n",
       "max    2.602291e+00  "
      ]
     },
     "execution_count": 135,
     "metadata": {},
     "output_type": "execute_result"
    }
   ],
   "source": [
    "object= StandardScaler()\n",
    " \n",
    "# Splitting the independent and dependent variables\n",
    "\n",
    " \n",
    "# standardization \n",
    "X_train3 = object.fit_transform(X_train1) \n",
    "X_train3 = pd.DataFrame(X_train3)\n",
    "X_train3.describe()"
   ]
  },
  {
   "cell_type": "markdown",
   "id": "d1847832",
   "metadata": {},
   "source": [
    "### Accuracy -> not Scaled vs MinMax Scaled vs Standard Scaled"
   ]
  },
  {
   "cell_type": "code",
   "execution_count": 136,
   "id": "6f365f7a",
   "metadata": {},
   "outputs": [
    {
     "name": "stdout",
     "output_type": "stream",
     "text": [
      "Accuracy Not Scaled: 0.879 (0.003)\n"
     ]
    }
   ],
   "source": [
    "# define and configure the model\n",
    "model = KNeighborsClassifier()\n",
    "# evaluate the model\n",
    "cv = RepeatedStratifiedKFold(n_splits=10, n_repeats=3, random_state=1)\n",
    "n_scores = cross_val_score(model, X, y, scoring='accuracy', cv=cv, n_jobs=-1, error_score='raise')\n",
    "# report model performance\n",
    "print('Accuracy Not Scaled: %.3f (%.3f)' % (mean(n_scores), std(n_scores)))"
   ]
  },
  {
   "cell_type": "code",
   "execution_count": 137,
   "id": "683cdb97",
   "metadata": {},
   "outputs": [
    {
     "name": "stdout",
     "output_type": "stream",
     "text": [
      "Accuracy after Max Scaled: 0.891 (0.002)\n"
     ]
    }
   ],
   "source": [
    "# define the pipeline\n",
    "trans = MinMaxScaler()\n",
    "model = KNeighborsClassifier()\n",
    "pipeline = Pipeline(steps=[('t', trans), ('m', model)])\n",
    "# evaluate the pipeline\n",
    "cv = RepeatedStratifiedKFold(n_splits=10, n_repeats=3, random_state=1)\n",
    "n_scores = cross_val_score(pipeline, X, y, scoring='accuracy', cv=cv, n_jobs=-1, error_score='raise')\n",
    "# report pipeline performance\n",
    "print('Accuracy after Max Scaled: %.3f (%.3f)' % (mean(n_scores), std(n_scores)))"
   ]
  },
  {
   "cell_type": "code",
   "execution_count": 138,
   "id": "d0b71448",
   "metadata": {},
   "outputs": [
    {
     "name": "stdout",
     "output_type": "stream",
     "text": [
      "Accuracy after Standard Scaled: 0.893 (0.003)\n"
     ]
    }
   ],
   "source": [
    "# define the pipeline\n",
    "trans = StandardScaler()\n",
    "model = KNeighborsClassifier()\n",
    "pipeline = Pipeline(steps=[('t', trans), ('m', model)])\n",
    "# evaluate the pipeline\n",
    "cv = RepeatedStratifiedKFold(n_splits=10, n_repeats=3, random_state=1)\n",
    "n_scores = cross_val_score(pipeline, X, y, scoring='accuracy', cv=cv, n_jobs=-1, error_score='raise')\n",
    "# report pipeline performance\n",
    "print('Accuracy after Standard Scaled: %.3f (%.3f)' % (mean(n_scores), std(n_scores)))"
   ]
  },
  {
   "cell_type": "markdown",
   "id": "8076bcc7",
   "metadata": {},
   "source": [
    "### logistic regression"
   ]
  },
  {
   "cell_type": "code",
   "execution_count": 139,
   "id": "2cf65f15",
   "metadata": {},
   "outputs": [],
   "source": [
    "from imblearn.under_sampling import RandomUnderSampler\n",
    "X = df2.drop(['Target'], axis=1)\n",
    "y = df2['Target']"
   ]
  },
  {
   "cell_type": "code",
   "execution_count": 140,
   "id": "74faf7db",
   "metadata": {},
   "outputs": [],
   "source": [
    "from sklearn.model_selection import train_test_split\n",
    "  \n",
    "# split into 70:30 ration\n",
    "X_train, X_test, y_train, y_test = train_test_split(X_sm, y_sm,test_size = 0.3, random_state = 0)"
   ]
  },
  {
   "cell_type": "code",
   "execution_count": 141,
   "id": "289a102d",
   "metadata": {},
   "outputs": [
    {
     "name": "stderr",
     "output_type": "stream",
     "text": [
      "C:\\Users\\ACER\\anaconda3\\lib\\site-packages\\sklearn\\linear_model\\_logistic.py:814: ConvergenceWarning: lbfgs failed to converge (status=1):\n",
      "STOP: TOTAL NO. of ITERATIONS REACHED LIMIT.\n",
      "\n",
      "Increase the number of iterations (max_iter) or scale the data as shown in:\n",
      "    https://scikit-learn.org/stable/modules/preprocessing.html\n",
      "Please also refer to the documentation for alternative solver options:\n",
      "    https://scikit-learn.org/stable/modules/linear_model.html#logistic-regression\n",
      "  n_iter_i = _check_optimize_result(\n"
     ]
    }
   ],
   "source": [
    "from sklearn.linear_model import LogisticRegression\n",
    "log_model=LogisticRegression()\n",
    "log_model=log_model.fit(X_train,y_train)"
   ]
  },
  {
   "cell_type": "code",
   "execution_count": 142,
   "id": "b2c69266",
   "metadata": {},
   "outputs": [],
   "source": [
    "y_pred=log_model.predict(X_test)"
   ]
  },
  {
   "cell_type": "code",
   "execution_count": 143,
   "id": "4574a548",
   "metadata": {},
   "outputs": [],
   "source": [
    "from sklearn.metrics import confusion_matrix,accuracy_score,precision_score,recall_score,f1_score"
   ]
  },
  {
   "cell_type": "code",
   "execution_count": 144,
   "id": "bfe7e4c4",
   "metadata": {},
   "outputs": [
    {
     "name": "stdout",
     "output_type": "stream",
     "text": [
      "Accuracy is : 0.8239542456374718\n",
      "Precision is : 0.8338934632834818\n",
      "Recall is : 0.8158651870119195\n",
      "F1 Score is : 0.8247808202102463\n"
     ]
    }
   ],
   "source": [
    "print('Accuracy is :',accuracy_score(y_test,y_pred))\n",
    "print('Precision is :',precision_score(y_test,y_pred))\n",
    "print('Recall is :',recall_score(y_test,y_pred))\n",
    "print('F1 Score is :',f1_score(y_test,y_pred))"
   ]
  },
  {
   "cell_type": "code",
   "execution_count": 145,
   "id": "0cd04645",
   "metadata": {},
   "outputs": [
    {
     "data": {
      "text/plain": [
       "array([0, 1, 0, ..., 1, 0, 1], dtype=int64)"
      ]
     },
     "execution_count": 145,
     "metadata": {},
     "output_type": "execute_result"
    }
   ],
   "source": [
    "y_pred"
   ]
  },
  {
   "cell_type": "code",
   "execution_count": 146,
   "id": "bf472018",
   "metadata": {},
   "outputs": [
    {
     "data": {
      "text/plain": [
       "54644    1\n",
       "56116    1\n",
       "63627    1\n",
       "59991    1\n",
       "27355    0\n",
       "        ..\n",
       "27813    0\n",
       "64378    1\n",
       "39859    1\n",
       "56721    1\n",
       "45441    1\n",
       "Name: Target, Length: 23954, dtype: int64"
      ]
     },
     "execution_count": 146,
     "metadata": {},
     "output_type": "execute_result"
    }
   ],
   "source": [
    "y_test"
   ]
  },
  {
   "cell_type": "code",
   "execution_count": 147,
   "id": "398ae274",
   "metadata": {},
   "outputs": [
    {
     "data": {
      "text/plain": [
       "array([[9812, 1977],\n",
       "       [2240, 9925]], dtype=int64)"
      ]
     },
     "execution_count": 147,
     "metadata": {},
     "output_type": "execute_result"
    }
   ],
   "source": [
    "confusion_matrix(y_test,y_pred)"
   ]
  },
  {
   "cell_type": "code",
   "execution_count": 148,
   "id": "381b08d5",
   "metadata": {},
   "outputs": [
    {
     "name": "stderr",
     "output_type": "stream",
     "text": [
      "C:\\Users\\ACER\\anaconda3\\lib\\site-packages\\sklearn\\linear_model\\_logistic.py:814: ConvergenceWarning: lbfgs failed to converge (status=1):\n",
      "STOP: TOTAL NO. of ITERATIONS REACHED LIMIT.\n",
      "\n",
      "Increase the number of iterations (max_iter) or scale the data as shown in:\n",
      "    https://scikit-learn.org/stable/modules/preprocessing.html\n",
      "Please also refer to the documentation for alternative solver options:\n",
      "    https://scikit-learn.org/stable/modules/linear_model.html#logistic-regression\n",
      "  n_iter_i = _check_optimize_result(\n",
      "C:\\Users\\ACER\\anaconda3\\lib\\site-packages\\sklearn\\linear_model\\_logistic.py:814: ConvergenceWarning: lbfgs failed to converge (status=1):\n",
      "STOP: TOTAL NO. of ITERATIONS REACHED LIMIT.\n",
      "\n",
      "Increase the number of iterations (max_iter) or scale the data as shown in:\n",
      "    https://scikit-learn.org/stable/modules/preprocessing.html\n",
      "Please also refer to the documentation for alternative solver options:\n",
      "    https://scikit-learn.org/stable/modules/linear_model.html#logistic-regression\n",
      "  n_iter_i = _check_optimize_result(\n",
      "C:\\Users\\ACER\\anaconda3\\lib\\site-packages\\sklearn\\linear_model\\_logistic.py:814: ConvergenceWarning: lbfgs failed to converge (status=1):\n",
      "STOP: TOTAL NO. of ITERATIONS REACHED LIMIT.\n",
      "\n",
      "Increase the number of iterations (max_iter) or scale the data as shown in:\n",
      "    https://scikit-learn.org/stable/modules/preprocessing.html\n",
      "Please also refer to the documentation for alternative solver options:\n",
      "    https://scikit-learn.org/stable/modules/linear_model.html#logistic-regression\n",
      "  n_iter_i = _check_optimize_result(\n",
      "C:\\Users\\ACER\\anaconda3\\lib\\site-packages\\sklearn\\linear_model\\_logistic.py:814: ConvergenceWarning: lbfgs failed to converge (status=1):\n",
      "STOP: TOTAL NO. of ITERATIONS REACHED LIMIT.\n",
      "\n",
      "Increase the number of iterations (max_iter) or scale the data as shown in:\n",
      "    https://scikit-learn.org/stable/modules/preprocessing.html\n",
      "Please also refer to the documentation for alternative solver options:\n",
      "    https://scikit-learn.org/stable/modules/linear_model.html#logistic-regression\n",
      "  n_iter_i = _check_optimize_result(\n",
      "C:\\Users\\ACER\\anaconda3\\lib\\site-packages\\sklearn\\linear_model\\_logistic.py:814: ConvergenceWarning: lbfgs failed to converge (status=1):\n",
      "STOP: TOTAL NO. of ITERATIONS REACHED LIMIT.\n",
      "\n",
      "Increase the number of iterations (max_iter) or scale the data as shown in:\n",
      "    https://scikit-learn.org/stable/modules/preprocessing.html\n",
      "Please also refer to the documentation for alternative solver options:\n",
      "    https://scikit-learn.org/stable/modules/linear_model.html#logistic-regression\n",
      "  n_iter_i = _check_optimize_result(\n",
      "C:\\Users\\ACER\\anaconda3\\lib\\site-packages\\sklearn\\linear_model\\_logistic.py:814: ConvergenceWarning: lbfgs failed to converge (status=1):\n",
      "STOP: TOTAL NO. of ITERATIONS REACHED LIMIT.\n",
      "\n",
      "Increase the number of iterations (max_iter) or scale the data as shown in:\n",
      "    https://scikit-learn.org/stable/modules/preprocessing.html\n",
      "Please also refer to the documentation for alternative solver options:\n",
      "    https://scikit-learn.org/stable/modules/linear_model.html#logistic-regression\n",
      "  n_iter_i = _check_optimize_result(\n",
      "C:\\Users\\ACER\\anaconda3\\lib\\site-packages\\sklearn\\linear_model\\_logistic.py:814: ConvergenceWarning: lbfgs failed to converge (status=1):\n",
      "STOP: TOTAL NO. of ITERATIONS REACHED LIMIT.\n",
      "\n",
      "Increase the number of iterations (max_iter) or scale the data as shown in:\n",
      "    https://scikit-learn.org/stable/modules/preprocessing.html\n",
      "Please also refer to the documentation for alternative solver options:\n",
      "    https://scikit-learn.org/stable/modules/linear_model.html#logistic-regression\n",
      "  n_iter_i = _check_optimize_result(\n",
      "C:\\Users\\ACER\\anaconda3\\lib\\site-packages\\sklearn\\linear_model\\_logistic.py:814: ConvergenceWarning: lbfgs failed to converge (status=1):\n",
      "STOP: TOTAL NO. of ITERATIONS REACHED LIMIT.\n",
      "\n",
      "Increase the number of iterations (max_iter) or scale the data as shown in:\n",
      "    https://scikit-learn.org/stable/modules/preprocessing.html\n",
      "Please also refer to the documentation for alternative solver options:\n",
      "    https://scikit-learn.org/stable/modules/linear_model.html#logistic-regression\n",
      "  n_iter_i = _check_optimize_result(\n",
      "C:\\Users\\ACER\\anaconda3\\lib\\site-packages\\sklearn\\linear_model\\_logistic.py:814: ConvergenceWarning: lbfgs failed to converge (status=1):\n",
      "STOP: TOTAL NO. of ITERATIONS REACHED LIMIT.\n",
      "\n",
      "Increase the number of iterations (max_iter) or scale the data as shown in:\n",
      "    https://scikit-learn.org/stable/modules/preprocessing.html\n",
      "Please also refer to the documentation for alternative solver options:\n",
      "    https://scikit-learn.org/stable/modules/linear_model.html#logistic-regression\n",
      "  n_iter_i = _check_optimize_result(\n",
      "C:\\Users\\ACER\\anaconda3\\lib\\site-packages\\sklearn\\linear_model\\_logistic.py:814: ConvergenceWarning: lbfgs failed to converge (status=1):\n",
      "STOP: TOTAL NO. of ITERATIONS REACHED LIMIT.\n",
      "\n",
      "Increase the number of iterations (max_iter) or scale the data as shown in:\n",
      "    https://scikit-learn.org/stable/modules/preprocessing.html\n",
      "Please also refer to the documentation for alternative solver options:\n",
      "    https://scikit-learn.org/stable/modules/linear_model.html#logistic-regression\n",
      "  n_iter_i = _check_optimize_result(\n"
     ]
    },
    {
     "data": {
      "text/plain": [
       "array([0.22629978, 0.24920302, 0.25564456, 0.25564818, 0.31362173,\n",
       "       0.35155505, 0.29215005, 0.27640414, 0.24849095, 0.23346077])"
      ]
     },
     "execution_count": 148,
     "metadata": {},
     "output_type": "execute_result"
    }
   ],
   "source": [
    "# k-fold cv\n",
    "from sklearn.model_selection import cross_val_score\n",
    "# 10-fold cv\n",
    "scores=cross_val_score(log_model,X_train,y_train,scoring='r2',cv=10)\n",
    "scores"
   ]
  },
  {
   "cell_type": "code",
   "execution_count": 149,
   "id": "38996025",
   "metadata": {},
   "outputs": [
    {
     "name": "stdout",
     "output_type": "stream",
     "text": [
      "0.2702478225273481\n"
     ]
    }
   ],
   "source": [
    "# printting the avg score\n",
    "print(np.mean(scores))"
   ]
  },
  {
   "cell_type": "code",
   "execution_count": 150,
   "id": "97545468",
   "metadata": {},
   "outputs": [
    {
     "name": "stderr",
     "output_type": "stream",
     "text": [
      "C:\\Users\\ACER\\anaconda3\\lib\\site-packages\\sklearn\\linear_model\\_logistic.py:814: ConvergenceWarning: lbfgs failed to converge (status=1):\n",
      "STOP: TOTAL NO. of ITERATIONS REACHED LIMIT.\n",
      "\n",
      "Increase the number of iterations (max_iter) or scale the data as shown in:\n",
      "    https://scikit-learn.org/stable/modules/preprocessing.html\n",
      "Please also refer to the documentation for alternative solver options:\n",
      "    https://scikit-learn.org/stable/modules/linear_model.html#logistic-regression\n",
      "  n_iter_i = _check_optimize_result(\n",
      "C:\\Users\\ACER\\anaconda3\\lib\\site-packages\\sklearn\\linear_model\\_logistic.py:814: ConvergenceWarning: lbfgs failed to converge (status=1):\n",
      "STOP: TOTAL NO. of ITERATIONS REACHED LIMIT.\n",
      "\n",
      "Increase the number of iterations (max_iter) or scale the data as shown in:\n",
      "    https://scikit-learn.org/stable/modules/preprocessing.html\n",
      "Please also refer to the documentation for alternative solver options:\n",
      "    https://scikit-learn.org/stable/modules/linear_model.html#logistic-regression\n",
      "  n_iter_i = _check_optimize_result(\n",
      "C:\\Users\\ACER\\anaconda3\\lib\\site-packages\\sklearn\\linear_model\\_logistic.py:814: ConvergenceWarning: lbfgs failed to converge (status=1):\n",
      "STOP: TOTAL NO. of ITERATIONS REACHED LIMIT.\n",
      "\n",
      "Increase the number of iterations (max_iter) or scale the data as shown in:\n",
      "    https://scikit-learn.org/stable/modules/preprocessing.html\n",
      "Please also refer to the documentation for alternative solver options:\n",
      "    https://scikit-learn.org/stable/modules/linear_model.html#logistic-regression\n",
      "  n_iter_i = _check_optimize_result(\n",
      "C:\\Users\\ACER\\anaconda3\\lib\\site-packages\\sklearn\\linear_model\\_logistic.py:814: ConvergenceWarning: lbfgs failed to converge (status=1):\n",
      "STOP: TOTAL NO. of ITERATIONS REACHED LIMIT.\n",
      "\n",
      "Increase the number of iterations (max_iter) or scale the data as shown in:\n",
      "    https://scikit-learn.org/stable/modules/preprocessing.html\n",
      "Please also refer to the documentation for alternative solver options:\n",
      "    https://scikit-learn.org/stable/modules/linear_model.html#logistic-regression\n",
      "  n_iter_i = _check_optimize_result(\n",
      "C:\\Users\\ACER\\anaconda3\\lib\\site-packages\\sklearn\\linear_model\\_logistic.py:814: ConvergenceWarning: lbfgs failed to converge (status=1):\n",
      "STOP: TOTAL NO. of ITERATIONS REACHED LIMIT.\n",
      "\n",
      "Increase the number of iterations (max_iter) or scale the data as shown in:\n",
      "    https://scikit-learn.org/stable/modules/preprocessing.html\n",
      "Please also refer to the documentation for alternative solver options:\n",
      "    https://scikit-learn.org/stable/modules/linear_model.html#logistic-regression\n",
      "  n_iter_i = _check_optimize_result(\n"
     ]
    },
    {
     "data": {
      "text/plain": [
       "array([0, 1, 1, ..., 1, 0, 1], dtype=int64)"
      ]
     },
     "execution_count": 150,
     "metadata": {},
     "output_type": "execute_result"
    }
   ],
   "source": [
    "# printing the scores on the test datasset\n",
    "# first:prediction \n",
    "# importing cross_val_predict function\n",
    "from sklearn.model_selection import cross_val_predict\n",
    "#the predictions\n",
    "pred=cross_val_predict(log_model,X_test,y_test)\n",
    "pred"
   ]
  },
  {
   "cell_type": "code",
   "execution_count": 151,
   "id": "c83c8a56",
   "metadata": {},
   "outputs": [
    {
     "name": "stderr",
     "output_type": "stream",
     "text": [
      "C:\\Users\\ACER\\anaconda3\\lib\\site-packages\\sklearn\\linear_model\\_logistic.py:814: ConvergenceWarning: lbfgs failed to converge (status=1):\n",
      "STOP: TOTAL NO. of ITERATIONS REACHED LIMIT.\n",
      "\n",
      "Increase the number of iterations (max_iter) or scale the data as shown in:\n",
      "    https://scikit-learn.org/stable/modules/preprocessing.html\n",
      "Please also refer to the documentation for alternative solver options:\n",
      "    https://scikit-learn.org/stable/modules/linear_model.html#logistic-regression\n",
      "  n_iter_i = _check_optimize_result(\n",
      "C:\\Users\\ACER\\anaconda3\\lib\\site-packages\\sklearn\\linear_model\\_logistic.py:814: ConvergenceWarning: lbfgs failed to converge (status=1):\n",
      "STOP: TOTAL NO. of ITERATIONS REACHED LIMIT.\n",
      "\n",
      "Increase the number of iterations (max_iter) or scale the data as shown in:\n",
      "    https://scikit-learn.org/stable/modules/preprocessing.html\n",
      "Please also refer to the documentation for alternative solver options:\n",
      "    https://scikit-learn.org/stable/modules/linear_model.html#logistic-regression\n",
      "  n_iter_i = _check_optimize_result(\n",
      "C:\\Users\\ACER\\anaconda3\\lib\\site-packages\\sklearn\\linear_model\\_logistic.py:814: ConvergenceWarning: lbfgs failed to converge (status=1):\n",
      "STOP: TOTAL NO. of ITERATIONS REACHED LIMIT.\n",
      "\n",
      "Increase the number of iterations (max_iter) or scale the data as shown in:\n",
      "    https://scikit-learn.org/stable/modules/preprocessing.html\n",
      "Please also refer to the documentation for alternative solver options:\n",
      "    https://scikit-learn.org/stable/modules/linear_model.html#logistic-regression\n",
      "  n_iter_i = _check_optimize_result(\n",
      "C:\\Users\\ACER\\anaconda3\\lib\\site-packages\\sklearn\\linear_model\\_logistic.py:814: ConvergenceWarning: lbfgs failed to converge (status=1):\n",
      "STOP: TOTAL NO. of ITERATIONS REACHED LIMIT.\n",
      "\n",
      "Increase the number of iterations (max_iter) or scale the data as shown in:\n",
      "    https://scikit-learn.org/stable/modules/preprocessing.html\n",
      "Please also refer to the documentation for alternative solver options:\n",
      "    https://scikit-learn.org/stable/modules/linear_model.html#logistic-regression\n",
      "  n_iter_i = _check_optimize_result(\n",
      "C:\\Users\\ACER\\anaconda3\\lib\\site-packages\\sklearn\\linear_model\\_logistic.py:814: ConvergenceWarning: lbfgs failed to converge (status=1):\n",
      "STOP: TOTAL NO. of ITERATIONS REACHED LIMIT.\n",
      "\n",
      "Increase the number of iterations (max_iter) or scale the data as shown in:\n",
      "    https://scikit-learn.org/stable/modules/preprocessing.html\n",
      "Please also refer to the documentation for alternative solver options:\n",
      "    https://scikit-learn.org/stable/modules/linear_model.html#logistic-regression\n",
      "  n_iter_i = _check_optimize_result(\n",
      "C:\\Users\\ACER\\anaconda3\\lib\\site-packages\\sklearn\\linear_model\\_logistic.py:814: ConvergenceWarning: lbfgs failed to converge (status=1):\n",
      "STOP: TOTAL NO. of ITERATIONS REACHED LIMIT.\n",
      "\n",
      "Increase the number of iterations (max_iter) or scale the data as shown in:\n",
      "    https://scikit-learn.org/stable/modules/preprocessing.html\n",
      "Please also refer to the documentation for alternative solver options:\n",
      "    https://scikit-learn.org/stable/modules/linear_model.html#logistic-regression\n",
      "  n_iter_i = _check_optimize_result(\n",
      "C:\\Users\\ACER\\anaconda3\\lib\\site-packages\\sklearn\\linear_model\\_logistic.py:814: ConvergenceWarning: lbfgs failed to converge (status=1):\n",
      "STOP: TOTAL NO. of ITERATIONS REACHED LIMIT.\n",
      "\n",
      "Increase the number of iterations (max_iter) or scale the data as shown in:\n",
      "    https://scikit-learn.org/stable/modules/preprocessing.html\n",
      "Please also refer to the documentation for alternative solver options:\n",
      "    https://scikit-learn.org/stable/modules/linear_model.html#logistic-regression\n",
      "  n_iter_i = _check_optimize_result(\n",
      "C:\\Users\\ACER\\anaconda3\\lib\\site-packages\\sklearn\\linear_model\\_logistic.py:814: ConvergenceWarning: lbfgs failed to converge (status=1):\n",
      "STOP: TOTAL NO. of ITERATIONS REACHED LIMIT.\n",
      "\n",
      "Increase the number of iterations (max_iter) or scale the data as shown in:\n",
      "    https://scikit-learn.org/stable/modules/preprocessing.html\n",
      "Please also refer to the documentation for alternative solver options:\n",
      "    https://scikit-learn.org/stable/modules/linear_model.html#logistic-regression\n",
      "  n_iter_i = _check_optimize_result(\n",
      "C:\\Users\\ACER\\anaconda3\\lib\\site-packages\\sklearn\\linear_model\\_logistic.py:814: ConvergenceWarning: lbfgs failed to converge (status=1):\n",
      "STOP: TOTAL NO. of ITERATIONS REACHED LIMIT.\n",
      "\n",
      "Increase the number of iterations (max_iter) or scale the data as shown in:\n",
      "    https://scikit-learn.org/stable/modules/preprocessing.html\n",
      "Please also refer to the documentation for alternative solver options:\n",
      "    https://scikit-learn.org/stable/modules/linear_model.html#logistic-regression\n",
      "  n_iter_i = _check_optimize_result(\n",
      "C:\\Users\\ACER\\anaconda3\\lib\\site-packages\\sklearn\\linear_model\\_logistic.py:814: ConvergenceWarning: lbfgs failed to converge (status=1):\n",
      "STOP: TOTAL NO. of ITERATIONS REACHED LIMIT.\n",
      "\n",
      "Increase the number of iterations (max_iter) or scale the data as shown in:\n",
      "    https://scikit-learn.org/stable/modules/preprocessing.html\n",
      "Please also refer to the documentation for alternative solver options:\n",
      "    https://scikit-learn.org/stable/modules/linear_model.html#logistic-regression\n",
      "  n_iter_i = _check_optimize_result(\n"
     ]
    },
    {
     "data": {
      "text/plain": [
       "array([0.82220367, 0.79382304, 0.80801336, 0.76627713, 0.80626305,\n",
       "       0.81043841, 0.81210856, 0.81043841, 0.82254697, 0.8091858 ])"
      ]
     },
     "execution_count": 151,
     "metadata": {},
     "output_type": "execute_result"
    }
   ],
   "source": [
    "# 10-fold cv on test data\n",
    "scores_test=cross_val_score(log_model,X_test,y_test,cv=10)\n",
    "scores_test"
   ]
  },
  {
   "cell_type": "code",
   "execution_count": 152,
   "id": "c94c52bc",
   "metadata": {},
   "outputs": [
    {
     "name": "stdout",
     "output_type": "stream",
     "text": [
      "0.8061298406181493\n"
     ]
    }
   ],
   "source": [
    "# the avg score\n",
    "print(np.mean(scores_test))"
   ]
  },
  {
   "cell_type": "markdown",
   "id": "bfecddf8",
   "metadata": {},
   "source": [
    "### kNN"
   ]
  },
  {
   "cell_type": "code",
   "execution_count": 153,
   "id": "c19ebe59",
   "metadata": {},
   "outputs": [],
   "source": [
    "from imblearn.under_sampling import RandomUnderSampler\n",
    "X = df2.drop(['Target'], axis=1)\n",
    "y = df2['Target']"
   ]
  },
  {
   "cell_type": "code",
   "execution_count": 154,
   "id": "4bdfa6a0",
   "metadata": {},
   "outputs": [],
   "source": [
    "from sklearn.model_selection import train_test_split\n",
    "  \n",
    "# split into 70:30 ration\n",
    "X_train, X_test, y_train, y_test = train_test_split(X_sm, y_sm,test_size = 0.3, random_state = 0)"
   ]
  },
  {
   "cell_type": "code",
   "execution_count": 155,
   "id": "4563079b",
   "metadata": {},
   "outputs": [],
   "source": [
    "from sklearn.neighbors import KNeighborsClassifier"
   ]
  },
  {
   "cell_type": "code",
   "execution_count": 156,
   "id": "7df695f8",
   "metadata": {},
   "outputs": [],
   "source": [
    "metric_k = []\n",
    "neighbors =  np.arange(3,15)"
   ]
  },
  {
   "cell_type": "code",
   "execution_count": null,
   "id": "9db943cc",
   "metadata": {},
   "outputs": [],
   "source": [
    "for k in neighbors:\n",
    "    classifier = KNeighborsClassifier(n_neighbors = k,metric = 'euclidean')\n",
    "    classifier.fit(X_train,y_train)\n",
    "    y_prediction = classifier.predict(X_test)\n",
    "    acc = accuracy_score(y_test,y_prediction)\n",
    "    metric_k.append(acc)"
   ]
  },
  {
   "cell_type": "code",
   "execution_count": 158,
   "id": "261915ba",
   "metadata": {},
   "outputs": [
    {
     "data": {
      "text/plain": [
       "[0.8760123570176171,\n",
       " 0.8778492109877265,\n",
       " 0.8621524588795191,\n",
       " 0.8645737663855724,\n",
       " 0.8538031226517492,\n",
       " 0.8540953494197211,\n",
       " 0.8450780662937296,\n",
       " 0.8455790264673958,\n",
       " 0.8388160641229022,\n",
       " 0.8392752776154295,\n",
       " 0.8350588628204058,\n",
       " 0.8342656758787677]"
      ]
     },
     "execution_count": 158,
     "metadata": {},
     "output_type": "execute_result"
    }
   ],
   "source": [
    "metric_k "
   ]
  },
  {
   "cell_type": "code",
   "execution_count": 159,
   "id": "24ba60fc",
   "metadata": {},
   "outputs": [
    {
     "data": {
      "image/png": "[encoded data removed]",
      "text/plain": [
       "<Figure size 640x480 with 1 Axes>"
      ]
     },
     "metadata": {},
     "output_type": "display_data"
    }
   ],
   "source": [
    "plt.plot(neighbors,metric_k)\n",
    "plt.xlabel(\"k value\")\n",
    "plt.ylabel(\"Accuracy\")\n",
    "plt.grid()"
   ]
  },
  {
   "cell_type": "code",
   "execution_count": null,
   "id": "bb58f91d",
   "metadata": {},
   "outputs": [],
   "source": [
    "classifier = KNeighborsClassifier(n_neighbors = 2,metric = 'euclidean')\n",
    "classifier.fit(X_train,y_train)\n",
    "y_prediction = classifier.predict(X_test)"
   ]
  },
  {
   "cell_type": "code",
   "execution_count": null,
   "id": "a88669fb",
   "metadata": {},
   "outputs": [],
   "source": [
    "print('Accuracy is :',accuracy_score(y_test,y_prediction))\n",
    "print('Precision is :',precision_score(y_test,y_prediction))\n",
    "print('Recall is :',recall_score(y_test,y_prediction))\n",
    "print('F1 Score is :',f1_score(y_test,y_prediction))"
   ]
  },
  {
   "cell_type": "code",
   "execution_count": null,
   "id": "07167403",
   "metadata": {},
   "outputs": [],
   "source": [
    "confusion_matrix(y_test,y_prediction)"
   ]
  },
  {
   "cell_type": "code",
   "execution_count": null,
   "id": "31b04f04",
   "metadata": {},
   "outputs": [],
   "source": [
    "classifier = KNeighborsClassifier(n_neighbors = 3,metric = 'euclidean')\n",
    "classifier.fit(X_train,y_train)\n",
    "y_prediction1 = classifier.predict(X_test)"
   ]
  },
  {
   "cell_type": "code",
   "execution_count": null,
   "id": "6e43dee6",
   "metadata": {},
   "outputs": [],
   "source": [
    "print('Accuracy is :',accuracy_score(y_test,y_prediction1))\n",
    "print('Precision is :',precision_score(y_test,y_prediction1))\n",
    "print('Recall is :',recall_score(y_test,y_prediction1))\n",
    "print('F1 Score is :',f1_score(y_test,y_prediction1))"
   ]
  },
  {
   "cell_type": "code",
   "execution_count": null,
   "id": "06b511c4",
   "metadata": {},
   "outputs": [],
   "source": [
    "confusion_matrix(y_test,y_prediction1)"
   ]
  },
  {
   "cell_type": "markdown",
   "id": "3b5c03ce",
   "metadata": {},
   "source": [
    "### svm model"
   ]
  },
  {
   "cell_type": "code",
   "execution_count": null,
   "id": "c77c9863",
   "metadata": {},
   "outputs": [],
   "source": []
  }
 ],
 "metadata": {
  "kernelspec": {
   "display_name": "Python 3 (ipykernel)",
   "language": "python",
   "name": "python3"
  },
  "language_info": {
   "codemirror_mode": {
    "name": "ipython",
    "version": 3
   },
   "file_extension": ".py",
   "mimetype": "text/x-python",
   "name": "python",
   "nbconvert_exporter": "python",
   "pygments_lexer": "ipython3",
   "version": "3.9.13"
  }
 },
 "nbformat": 4,
 "nbformat_minor": 5
}
